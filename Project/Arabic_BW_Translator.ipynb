{
 "cells": [
  {
   "cell_type": "code",
   "execution_count": 1,
   "id": "6552f609-e109-4355-849e-fd98b2f7187d",
   "metadata": {},
   "outputs": [],
   "source": [
    "# this code will convert Arabic text to buckwalter and vice versa by using python3.\n"
   ]
  },
  {
   "cell_type": "code",
   "execution_count": 2,
   "id": "d5e2555c-36d8-46d3-9803-f1d5417c5525",
   "metadata": {},
   "outputs": [],
   "source": [
    "araletters = {u\"\\u0627\":'A',\n",
    "u\"\\u0628\":'b', u\"\\u062A\":'t', u\"\\u062B\":'v', u\"\\u062C\":'j',\n",
    "u\"\\u062D\":'H', u\"\\u062E\":'x', u\"\\u062F\":'d', u\"\\u0630\":'*', u\"\\u0631\":'r',\n",
    "u\"\\u0632\":'z', u\"\\u0633\":'s', u\"\\u0634\":'$', u\"\\u0635\":'S', u\"\\u0636\":'D',\n",
    "u\"\\u0637\":'T', u\"\\u0638\":'Z', u\"\\u0639\":'E', u\"\\u063A\":'g', u\"\\u0641\":'f',\n",
    "u\"\\u0642\":'q', u\"\\u0643\":'k', u\"\\u0644\":'l', u\"\\u0645\":'m', u\"\\u0646\":'n',\n",
    "u\"\\u0647\":'h', u\"\\u0648\":'w', u\"\\u0649\":'y', u\"\\u064A\":'y',\n",
    "u\"\\u0622\":'|', u\"\\u064E\":'a', u\"\\u064F\":'u', u\"\\u0650\":'i',\n",
    "u\"\\u0651\":'~', u\"\\u0652\":'o', u\"\\u064B\":'F', u\"\\u064C\":'N',\n",
    "u\"\\u064D\":'K', u\"\\u0621\":'\\'', u\"\\u0623\":'>', u\"\\u0625\":'<',\n",
    "u\"\\u0624\":'&', u\"\\u0626\":'}', u\"\\u0629\":'p', \" \":' '\n",
    "}"
   ]
  },
  {
   "cell_type": "code",
   "execution_count": 3,
   "id": "504a6919-e6b7-4f47-924b-640b5b14599e",
   "metadata": {},
   "outputs": [],
   "source": [
    "def split(word): \n",
    "    return [char for char in word]  \n",
    "      \n",
    "def get_key(v): \n",
    "    for key, value in araletters.items(): \n",
    "         if v == value: \n",
    "             return key \n",
    "\n",
    "    return \"\"\n",
    " \n",
    "\n",
    "def get_val(k): \n",
    "    for key, value in araletters.items(): \n",
    "         if k == key: \n",
    "             return value \n",
    "\n",
    "    return \"\"\n",
    " \n",
    "def convert_bw_to_ara(xsent):\n",
    "    res = ''\n",
    "    splstr = split(xsent)\n",
    "    for x in splstr:\n",
    "        cara = get_key(x)\n",
    "        if cara != '':\n",
    "            res += cara\n",
    "        else:\n",
    "            res += x\n",
    "\n",
    "    return res\n",
    "\n",
    "\n",
    "def convert_ara_to_bw(xsent):\n",
    "    res = ''\n",
    "    splstr = split(xsent)\n",
    "    for x in splstr:\n",
    "        cara = get_val(x)\n",
    "        if cara != '':\n",
    "            res += cara\n",
    "        else:\n",
    "            res += x\n",
    "\n",
    "    return res"
   ]
  },
  {
   "cell_type": "code",
   "execution_count": 4,
   "id": "c471a424-409c-4aa9-926a-8bd5a6355d97",
   "metadata": {},
   "outputs": [
    {
     "name": "stdout",
     "output_type": "stream",
     "text": [
      "AlHsAsyp mn bED Al>TEmp qd ykwn lhA\n"
     ]
    }
   ],
   "source": [
    "res = convert_ara_to_bw('الحساسية من بعض الأطعمة قد يكون لها')\n",
    "print(res)"
   ]
  },
  {
   "cell_type": "code",
   "execution_count": 6,
   "id": "49a31722-744a-45ca-822a-e614193e4ea0",
   "metadata": {},
   "outputs": [
    {
     "name": "stdout",
     "output_type": "stream",
     "text": [
      "AloHisaAsiy~ap mino baEoDi Alo>aToEimapi qado yakuwnu lahaA\n"
     ]
    }
   ],
   "source": [
    "res_dia = convert_ara_to_bw('الْحِسَاسِيَّة مِنْ بَعْضِ الْأَطْعِمَةِ قَدْ يَكُونُ لَهَا')\n",
    "print(res_dia)"
   ]
  },
  {
   "cell_type": "code",
   "execution_count": null,
   "id": "97896e85-6931-43ac-893f-4a6b286478ec",
   "metadata": {},
   "outputs": [],
   "source": []
  }
 ],
 "metadata": {
  "kernelspec": {
   "display_name": "Python 3 (ipykernel)",
   "language": "python",
   "name": "python3"
  },
  "language_info": {
   "codemirror_mode": {
    "name": "ipython",
    "version": 3
   },
   "file_extension": ".py",
   "mimetype": "text/x-python",
   "name": "python",
   "nbconvert_exporter": "python",
   "pygments_lexer": "ipython3",
   "version": "3.10.4"
  }
 },
 "nbformat": 4,
 "nbformat_minor": 5
}
