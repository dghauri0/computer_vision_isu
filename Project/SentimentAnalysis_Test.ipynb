{
 "cells": [
  {
   "cell_type": "markdown",
   "id": "48a4dcf9",
   "metadata": {},
   "source": [
    "# Dependency Handling"
   ]
  },
  {
   "cell_type": "code",
   "execution_count": 1,
   "id": "cfd66a9d",
   "metadata": {},
   "outputs": [
    {
     "name": "stdout",
     "output_type": "stream",
     "text": [
      "Requirement already satisfied: torch in c:\\users\\dawoo\\appdata\\local\\programs\\python\\python310\\lib\\site-packages (1.11.0)\n",
      "Requirement already satisfied: torchvision in c:\\users\\dawoo\\appdata\\local\\programs\\python\\python310\\lib\\site-packages (0.12.0)\n",
      "Requirement already satisfied: torchaudio in c:\\users\\dawoo\\appdata\\local\\programs\\python\\python310\\lib\\site-packages (0.11.0)\n",
      "Requirement already satisfied: typing-extensions in c:\\users\\dawoo\\appdata\\local\\programs\\python\\python310\\lib\\site-packages (from torch) (4.1.1)\n",
      "Requirement already satisfied: requests in c:\\users\\dawoo\\appdata\\local\\programs\\python\\python310\\lib\\site-packages (from torchvision) (2.27.1)\n",
      "Requirement already satisfied: pillow!=8.3.*,>=5.3.0 in c:\\users\\dawoo\\appdata\\local\\programs\\python\\python310\\lib\\site-packages (from torchvision) (9.1.0)\n",
      "Requirement already satisfied: numpy in c:\\users\\dawoo\\appdata\\local\\programs\\python\\python310\\lib\\site-packages (from torchvision) (1.22.3)\n",
      "Requirement already satisfied: certifi>=2017.4.17 in c:\\users\\dawoo\\appdata\\local\\programs\\python\\python310\\lib\\site-packages (from requests->torchvision) (2021.10.8)\n",
      "Requirement already satisfied: idna<4,>=2.5 in c:\\users\\dawoo\\appdata\\local\\programs\\python\\python310\\lib\\site-packages (from requests->torchvision) (3.3)\n",
      "Requirement already satisfied: urllib3<1.27,>=1.21.1 in c:\\users\\dawoo\\appdata\\local\\programs\\python\\python310\\lib\\site-packages (from requests->torchvision) (1.26.9)\n",
      "Requirement already satisfied: charset-normalizer~=2.0.0 in c:\\users\\dawoo\\appdata\\local\\programs\\python\\python310\\lib\\site-packages (from requests->torchvision) (2.0.12)\n"
     ]
    }
   ],
   "source": [
    "# Install pytorch\n",
    "\n",
    "!pip3 install torch torchvision torchaudio\n",
    "#!pip3 install torch torchvision torchaudio --extra-index-url https://download.pytorch.org/whl/cu113"
   ]
  },
  {
   "cell_type": "code",
   "execution_count": 2,
   "id": "38ad2f79",
   "metadata": {},
   "outputs": [
    {
     "name": "stdout",
     "output_type": "stream",
     "text": [
      "Requirement already satisfied: requests in c:\\users\\dawoo\\appdata\\local\\programs\\python\\python310\\lib\\site-packages (2.27.1)\n",
      "Requirement already satisfied: transformers in c:\\users\\dawoo\\appdata\\local\\programs\\python\\python310\\lib\\site-packages (4.17.0)\n",
      "Requirement already satisfied: beautifulsoup4 in c:\\users\\dawoo\\appdata\\local\\programs\\python\\python310\\lib\\site-packages (4.10.0)\n",
      "Requirement already satisfied: pandas in c:\\users\\dawoo\\appdata\\local\\programs\\python\\python310\\lib\\site-packages (1.4.2)\n",
      "Requirement already satisfied: numpy in c:\\users\\dawoo\\appdata\\local\\programs\\python\\python310\\lib\\site-packages (1.22.3)\n",
      "Requirement already satisfied: charset-normalizer~=2.0.0 in c:\\users\\dawoo\\appdata\\local\\programs\\python\\python310\\lib\\site-packages (from requests) (2.0.12)\n",
      "Requirement already satisfied: urllib3<1.27,>=1.21.1 in c:\\users\\dawoo\\appdata\\local\\programs\\python\\python310\\lib\\site-packages (from requests) (1.26.9)\n",
      "Requirement already satisfied: idna<4,>=2.5 in c:\\users\\dawoo\\appdata\\local\\programs\\python\\python310\\lib\\site-packages (from requests) (3.3)\n",
      "Requirement already satisfied: certifi>=2017.4.17 in c:\\users\\dawoo\\appdata\\local\\programs\\python\\python310\\lib\\site-packages (from requests) (2021.10.8)\n",
      "Requirement already satisfied: pyyaml>=5.1 in c:\\users\\dawoo\\appdata\\local\\programs\\python\\python310\\lib\\site-packages (from transformers) (6.0)\n",
      "Requirement already satisfied: tqdm>=4.27 in c:\\users\\dawoo\\appdata\\local\\programs\\python\\python310\\lib\\site-packages (from transformers) (4.64.0)\n",
      "Requirement already satisfied: sacremoses in c:\\users\\dawoo\\appdata\\local\\programs\\python\\python310\\lib\\site-packages (from transformers) (0.0.49)\n",
      "Requirement already satisfied: tokenizers!=0.11.3,>=0.11.1 in c:\\users\\dawoo\\appdata\\local\\programs\\python\\python310\\lib\\site-packages (from transformers) (0.11.6)\n",
      "Requirement already satisfied: regex!=2019.12.17 in c:\\users\\dawoo\\appdata\\local\\programs\\python\\python310\\lib\\site-packages (from transformers) (2022.3.15)\n",
      "Requirement already satisfied: packaging>=20.0 in c:\\users\\dawoo\\appdata\\local\\programs\\python\\python310\\lib\\site-packages (from transformers) (21.3)\n",
      "Requirement already satisfied: filelock in c:\\users\\dawoo\\appdata\\local\\programs\\python\\python310\\lib\\site-packages (from transformers) (3.6.0)\n",
      "Requirement already satisfied: huggingface-hub<1.0,>=0.1.0 in c:\\users\\dawoo\\appdata\\local\\programs\\python\\python310\\lib\\site-packages (from transformers) (0.4.0)\n",
      "Requirement already satisfied: soupsieve>1.2 in c:\\users\\dawoo\\appdata\\local\\programs\\python\\python310\\lib\\site-packages (from beautifulsoup4) (2.3.1)\n",
      "Requirement already satisfied: python-dateutil>=2.8.1 in c:\\users\\dawoo\\appdata\\local\\programs\\python\\python310\\lib\\site-packages (from pandas) (2.8.2)\n",
      "Requirement already satisfied: pytz>=2020.1 in c:\\users\\dawoo\\appdata\\local\\programs\\python\\python310\\lib\\site-packages (from pandas) (2022.1)\n",
      "Requirement already satisfied: typing-extensions>=3.7.4.3 in c:\\users\\dawoo\\appdata\\local\\programs\\python\\python310\\lib\\site-packages (from huggingface-hub<1.0,>=0.1.0->transformers) (4.1.1)\n",
      "Requirement already satisfied: pyparsing!=3.0.5,>=2.0.2 in c:\\users\\dawoo\\appdata\\local\\programs\\python\\python310\\lib\\site-packages (from packaging>=20.0->transformers) (3.0.7)\n",
      "Requirement already satisfied: six>=1.5 in c:\\users\\dawoo\\appdata\\local\\programs\\python\\python310\\lib\\site-packages (from python-dateutil>=2.8.1->pandas) (1.16.0)\n",
      "Requirement already satisfied: colorama in c:\\users\\dawoo\\appdata\\local\\programs\\python\\python310\\lib\\site-packages (from tqdm>=4.27->transformers) (0.4.4)\n",
      "Requirement already satisfied: click in c:\\users\\dawoo\\appdata\\local\\programs\\python\\python310\\lib\\site-packages (from sacremoses->transformers) (8.1.2)\n",
      "Requirement already satisfied: joblib in c:\\users\\dawoo\\appdata\\local\\programs\\python\\python310\\lib\\site-packages (from sacremoses->transformers) (1.1.0)\n"
     ]
    }
   ],
   "source": [
    "# Install Transformers (using for NLP model - allows for easily import model)\n",
    "# Install Requests (allow requests to webpages for analysis)\n",
    "# Install BeautifulSoup (extract relevant data from webpage)\n",
    "# Install Pandas and Numpy (structure data)\n",
    "\n",
    "!pip3 install requests transformers beautifulsoup4 pandas numpy"
   ]
  },
  {
   "cell_type": "code",
   "execution_count": 3,
   "id": "d8db57b7",
   "metadata": {},
   "outputs": [
    {
     "name": "stderr",
     "output_type": "stream",
     "text": [
      "C:\\Users\\dawoo\\AppData\\Local\\Programs\\Python\\Python310\\lib\\site-packages\\tqdm\\auto.py:22: TqdmWarning: IProgress not found. Please update jupyter and ipywidgets. See https://ipywidgets.readthedocs.io/en/stable/user_install.html\n",
      "  from .autonotebook import tqdm as notebook_tqdm\n"
     ]
    }
   ],
   "source": [
    "# Tokenizer - Parse through string to get numbers.\n",
    "# AutoModelForSequenceClassification - Give us architecture from transformers to load in NLP model\n",
    "from transformers import AutoTokenizer, AutoModelForSequenceClassification\n",
    "import torch\n",
    "import requests\n",
    "from bs4 import BeautifulSoup\n",
    "import re\n",
    "import numpy as np\n",
    "import pandas as pd"
   ]
  },
  {
   "cell_type": "markdown",
   "id": "b2d2e4fb",
   "metadata": {},
   "source": [
    "# Setup Model (Initialization)"
   ]
  },
  {
   "cell_type": "code",
   "execution_count": 4,
   "id": "db861ae3",
   "metadata": {},
   "outputs": [],
   "source": [
    "tokenizer = AutoTokenizer.from_pretrained('nlptown/bert-base-multilingual-uncased-sentiment')\n",
    "\n",
    "model = AutoModelForSequenceClassification.from_pretrained('nlptown/bert-base-multilingual-uncased-sentiment')"
   ]
  },
  {
   "cell_type": "markdown",
   "id": "35e70ca5",
   "metadata": {},
   "source": [
    "# Encoding and Sentiment Calculation"
   ]
  },
  {
   "cell_type": "code",
   "execution_count": 5,
   "id": "48084c31",
   "metadata": {},
   "outputs": [],
   "source": [
    "tokens0 = tokenizer.encode('I am having a horrible day', return_tensors='pt') \n",
    "tokens1 = tokenizer.encode('خوش', return_tensors='pt') # Means \"happy\" \n",
    "tokens2 = tokenizer.encode('اِک شخص بددُعا سی کر گیا مُجھ پر, وُہ عہدِ ترقِ وفَاسِی کرگیا مُجھ پر', return_tensors='pt') # Negative sentence\n"
   ]
  },
  {
   "cell_type": "code",
   "execution_count": 6,
   "id": "d08822b0",
   "metadata": {},
   "outputs": [],
   "source": [
    "# Debug\n",
    "\n",
    "# tokens\n",
    "# tokens[0]\n",
    "# tokenizer.decode(tokens[0])"
   ]
  },
  {
   "cell_type": "code",
   "execution_count": 7,
   "id": "31ca81c2",
   "metadata": {},
   "outputs": [],
   "source": [
    "result0 = model(tokens0)\n",
    "result1 = model(tokens1)\n",
    "result2 = model(tokens2)"
   ]
  },
  {
   "cell_type": "code",
   "execution_count": 8,
   "id": "94eb2dcb",
   "metadata": {},
   "outputs": [
    {
     "name": "stdout",
     "output_type": "stream",
     "text": [
      "SequenceClassifierOutput(loss=None, logits=tensor([[ 3.3005,  1.4749, -0.0459, -2.0774, -2.0999]],\n",
      "       grad_fn=<AddmmBackward0>), hidden_states=None, attentions=None)\n",
      "SequenceClassifierOutput(loss=None, logits=tensor([[-1.4725, -1.1947,  0.2650,  1.0080,  1.1522]],\n",
      "       grad_fn=<AddmmBackward0>), hidden_states=None, attentions=None)\n",
      "SequenceClassifierOutput(loss=None, logits=tensor([[-0.0923, -0.5614, -0.0990, -0.1329,  0.6934]],\n",
      "       grad_fn=<AddmmBackward0>), hidden_states=None, attentions=None)\n"
     ]
    }
   ],
   "source": [
    "print(result0)\n",
    "print(result1)\n",
    "print(result2)"
   ]
  },
  {
   "cell_type": "code",
   "execution_count": 9,
   "id": "0857f309",
   "metadata": {
    "tags": []
   },
   "outputs": [
    {
     "name": "stdout",
     "output_type": "stream",
     "text": [
      "Star Rating (result0):  1\n",
      "Star Rating (result1):  5\n",
      "Star Rating (result2):  5\n"
     ]
    }
   ],
   "source": [
    "star_rating0 = int(torch.argmax(result0.logits)) + 1\n",
    "star_rating1 = int(torch.argmax(result1.logits)) + 1\n",
    "star_rating2 = int(torch.argmax(result2.logits)) + 1\n",
    "\n",
    "print('Star Rating (result0): ', star_rating0)\n",
    "print('Star Rating (result1): ', star_rating1)\n",
    "print('Star Rating (result2): ', star_rating2)\n"
   ]
  },
  {
   "cell_type": "markdown",
   "id": "63300b0a",
   "metadata": {
    "tags": []
   },
   "source": [
    "#  Parse Website"
   ]
  },
  {
   "cell_type": "code",
   "execution_count": 10,
   "id": "8620c3f3",
   "metadata": {
    "scrolled": true
   },
   "outputs": [],
   "source": [
    "headers = {'User-Agent': 'Mozilla/5.0 (Windows NT 10.0; Win64; x64) AppleWebKit/537.36 (KHTML, like Gecko) Chrome/96.0.4664.93 Safari/537.36'}\n",
    "req_sad = requests.get('https://hamariweb.com/poetries/sad_poetries2.aspx', headers=headers)\n",
    "req_funny = requests.get('https://hamariweb.com/poetries/funny_poetries4.aspx', headers=headers)\n",
    "\n",
    "soup_sad = BeautifulSoup(req_sad.text, 'html.parser')\n",
    "soup_funny = BeautifulSoup(req_funny.text, 'html.parser')\n",
    "\n",
    "regex_sad = re.compile('UrduText')\n",
    "regex_funny = re.compile('UrduText')\n",
    "\n",
    "result_website_sad = soup_sad.find_all('a', {'class':regex_sad})\n",
    "result_website_funny = soup_funny.find_all('a', {'class':regex_funny})\n",
    "\n",
    "reviews_sad = [i.text for i in result_website_sad]\n",
    "reviews_funny = [i.text for i in result_website_funny]\n",
    "\n",
    "# Debug\n",
    "#reviews_sad\n",
    "#reviews_funny\n"
   ]
  },
  {
   "cell_type": "markdown",
   "id": "fe8e240c",
   "metadata": {},
   "source": [
    "# Load Website Data into Dataframe and Get Star Rating"
   ]
  },
  {
   "cell_type": "code",
   "execution_count": 11,
   "id": "a786f2c2",
   "metadata": {},
   "outputs": [],
   "source": [
    "df_sad = pd.DataFrame(np.array(reviews_sad), columns=['string'])\n",
    "df_funny = pd.DataFrame(np.array(reviews_funny), columns=['string'])\n",
    "\n",
    "# Debug\n",
    "#soup\n",
    "#result_website\n",
    "#reviews\n",
    "#df['string'].iloc[1]"
   ]
  },
  {
   "cell_type": "code",
   "execution_count": 12,
   "id": "83f2bdbd",
   "metadata": {},
   "outputs": [],
   "source": [
    "def StringToScore(string):\n",
    "    tokens = tokenizer.encode(string, return_tensors='pt')\n",
    "    output = model(tokens)\n",
    "    return int(torch.argmax(output.logits)) + 1\n",
    "    "
   ]
  },
  {
   "cell_type": "code",
   "execution_count": 13,
   "id": "289d1eaa",
   "metadata": {},
   "outputs": [],
   "source": [
    "# Debug\n",
    "#StringToScore(df_sad['string'].iloc[0])"
   ]
  },
  {
   "cell_type": "code",
   "execution_count": 14,
   "id": "f2e0a32f",
   "metadata": {},
   "outputs": [],
   "source": [
    "df_sad['sentiment'] = df_sad['string'].apply(lambda x: StringToScore(x[:15]))\n",
    "#df_sad['string'] = df_sad['string'].replace('\\n','')\n",
    "df_funny['sentiment'] = df_funny['string'].apply(lambda x: StringToScore(x[:15]))"
   ]
  },
  {
   "cell_type": "code",
   "execution_count": 15,
   "id": "433634d8",
   "metadata": {},
   "outputs": [
    {
     "data": {
      "text/html": [
       "<div>\n",
       "<style scoped>\n",
       "    .dataframe tbody tr th:only-of-type {\n",
       "        vertical-align: middle;\n",
       "    }\n",
       "\n",
       "    .dataframe tbody tr th {\n",
       "        vertical-align: top;\n",
       "    }\n",
       "\n",
       "    .dataframe thead th {\n",
       "        text-align: right;\n",
       "    }\n",
       "</style>\n",
       "<table border=\"1\" class=\"dataframe\">\n",
       "  <thead>\n",
       "    <tr style=\"text-align: right;\">\n",
       "      <th></th>\n",
       "      <th>string</th>\n",
       "      <th>sentiment</th>\n",
       "    </tr>\n",
       "  </thead>\n",
       "  <tbody>\n",
       "    <tr>\n",
       "      <th>0</th>\n",
       "      <td>\\nتمہاری منتظر یوں تو ہزاروں گھر بناتی ہوںوہ ر...</td>\n",
       "      <td>1</td>\n",
       "    </tr>\n",
       "    <tr>\n",
       "      <th>1</th>\n",
       "      <td>\\nہم انہیں وہ ہمیں بھلا بیٹھےدو گنہ گار زہر کھ...</td>\n",
       "      <td>5</td>\n",
       "    </tr>\n",
       "    <tr>\n",
       "      <th>2</th>\n",
       "      <td>\\nخنجر سے کرو بات نہ تلوار سے پوچھومیں قتل ہوا...</td>\n",
       "      <td>3</td>\n",
       "    </tr>\n",
       "    <tr>\n",
       "      <th>3</th>\n",
       "      <td>\\nوہ شخص حسن اپنا دکھا کر چلا گیادیوانہ مجھ کو...</td>\n",
       "      <td>5</td>\n",
       "    </tr>\n",
       "    <tr>\n",
       "      <th>4</th>\n",
       "      <td>اے نگاہ دوست یہ کیا ہو گیا کیا کر دیاپہلے پہلے...</td>\n",
       "      <td>5</td>\n",
       "    </tr>\n",
       "    <tr>\n",
       "      <th>5</th>\n",
       "      <td>رواں دواں ہے زندگی چراغ کے بغیر بھیہے میرے گھر...</td>\n",
       "      <td>3</td>\n",
       "    </tr>\n",
       "    <tr>\n",
       "      <th>6</th>\n",
       "      <td>وہ ہنس ہنس کے وعدے کیے جا رہے ہیںفریب تمنا دیے...</td>\n",
       "      <td>5</td>\n",
       "    </tr>\n",
       "    <tr>\n",
       "      <th>7</th>\n",
       "      <td>چشم نم پر مسکرا کر چل دیئےآگ پانی میں لگا کر چ...</td>\n",
       "      <td>1</td>\n",
       "    </tr>\n",
       "    <tr>\n",
       "      <th>8</th>\n",
       "      <td>چاہت کی اذیت رہائی نہ دے گیکہ بچنےکی راہ بھی د...</td>\n",
       "      <td>5</td>\n",
       "    </tr>\n",
       "    <tr>\n",
       "      <th>9</th>\n",
       "      <td>کون جیتا کون ہارا یہ کہانی پھر سہیہوگا کیسے اب...</td>\n",
       "      <td>3</td>\n",
       "    </tr>\n",
       "    <tr>\n",
       "      <th>10</th>\n",
       "      <td>ہر آئنے میں ترے خد و خال آتے ہیںعجیب رنج ترے ا...</td>\n",
       "      <td>5</td>\n",
       "    </tr>\n",
       "    <tr>\n",
       "      <th>11</th>\n",
       "      <td>شکستہ دل تھے ترا اعتبار کیا کرتےجو اعتبار بھی ...</td>\n",
       "      <td>1</td>\n",
       "    </tr>\n",
       "    <tr>\n",
       "      <th>12</th>\n",
       "      <td>محبت کا حوالا ہی نہیں ہے چراغوں میں اجالا ہی ن...</td>\n",
       "      <td>5</td>\n",
       "    </tr>\n",
       "    <tr>\n",
       "      <th>13</th>\n",
       "      <td>آج تیرا چہرہ نہیں رہا قابلِ دید احسن کبھی تم ب...</td>\n",
       "      <td>1</td>\n",
       "    </tr>\n",
       "    <tr>\n",
       "      <th>14</th>\n",
       "      <td>آج تیرا چہرہ نہیں رہا قابلِ دید کبھی تم بھی ہو...</td>\n",
       "      <td>1</td>\n",
       "    </tr>\n",
       "    <tr>\n",
       "      <th>15</th>\n",
       "      <td>ہجوم غم میں کس زندہ دلی سےمسلسل کھیلتا ہوں زند...</td>\n",
       "      <td>1</td>\n",
       "    </tr>\n",
       "    <tr>\n",
       "      <th>16</th>\n",
       "      <td>یاد یہ کس کی آ گئی ذہن کا بوجھ اتر گیاسارے ہی ...</td>\n",
       "      <td>5</td>\n",
       "    </tr>\n",
       "    <tr>\n",
       "      <th>17</th>\n",
       "      <td>شام غم ہے تری یادوں کو سجا رکھا ہےمیں نے دانست...</td>\n",
       "      <td>5</td>\n",
       "    </tr>\n",
       "    <tr>\n",
       "      <th>18</th>\n",
       "      <td>ابھی خاموش ہیں شعلوں کا اندازہ نہیں ہوتامری بس...</td>\n",
       "      <td>5</td>\n",
       "    </tr>\n",
       "    <tr>\n",
       "      <th>19</th>\n",
       "      <td>خود پکارے گی جو منزل تو ٹھہر جاؤں گاورنہ خوددا...</td>\n",
       "      <td>5</td>\n",
       "    </tr>\n",
       "    <tr>\n",
       "      <th>20</th>\n",
       "      <td>اس راز کو کیا جانیں ساحل کے تماشائیہم ڈوب کے س...</td>\n",
       "      <td>5</td>\n",
       "    </tr>\n",
       "    <tr>\n",
       "      <th>21</th>\n",
       "      <td>ساتھ کس کو چاہیے اب دھوپ کاٹھنڈ میں لیں گے مزہ...</td>\n",
       "      <td>3</td>\n",
       "    </tr>\n",
       "    <tr>\n",
       "      <th>22</th>\n",
       "      <td>بھلا برا وہ خدا کرے گاغریب تو بس دعا کرے گا...</td>\n",
       "      <td>5</td>\n",
       "    </tr>\n",
       "    <tr>\n",
       "      <th>23</th>\n",
       "      <td>جو عشق میں گزارہ لمحہ پسند آیاآنکھوں میں بس گی...</td>\n",
       "      <td>5</td>\n",
       "    </tr>\n",
       "  </tbody>\n",
       "</table>\n",
       "</div>"
      ],
      "text/plain": [
       "                                               string  sentiment\n",
       "0   \\nتمہاری منتظر یوں تو ہزاروں گھر بناتی ہوںوہ ر...          1\n",
       "1   \\nہم انہیں وہ ہمیں بھلا بیٹھےدو گنہ گار زہر کھ...          5\n",
       "2   \\nخنجر سے کرو بات نہ تلوار سے پوچھومیں قتل ہوا...          3\n",
       "3   \\nوہ شخص حسن اپنا دکھا کر چلا گیادیوانہ مجھ کو...          5\n",
       "4   اے نگاہ دوست یہ کیا ہو گیا کیا کر دیاپہلے پہلے...          5\n",
       "5   رواں دواں ہے زندگی چراغ کے بغیر بھیہے میرے گھر...          3\n",
       "6   وہ ہنس ہنس کے وعدے کیے جا رہے ہیںفریب تمنا دیے...          5\n",
       "7   چشم نم پر مسکرا کر چل دیئےآگ پانی میں لگا کر چ...          1\n",
       "8   چاہت کی اذیت رہائی نہ دے گیکہ بچنےکی راہ بھی د...          5\n",
       "9   کون جیتا کون ہارا یہ کہانی پھر سہیہوگا کیسے اب...          3\n",
       "10  ہر آئنے میں ترے خد و خال آتے ہیںعجیب رنج ترے ا...          5\n",
       "11  شکستہ دل تھے ترا اعتبار کیا کرتےجو اعتبار بھی ...          1\n",
       "12  محبت کا حوالا ہی نہیں ہے چراغوں میں اجالا ہی ن...          5\n",
       "13  آج تیرا چہرہ نہیں رہا قابلِ دید احسن کبھی تم ب...          1\n",
       "14  آج تیرا چہرہ نہیں رہا قابلِ دید کبھی تم بھی ہو...          1\n",
       "15  ہجوم غم میں کس زندہ دلی سےمسلسل کھیلتا ہوں زند...          1\n",
       "16  یاد یہ کس کی آ گئی ذہن کا بوجھ اتر گیاسارے ہی ...          5\n",
       "17  شام غم ہے تری یادوں کو سجا رکھا ہےمیں نے دانست...          5\n",
       "18  ابھی خاموش ہیں شعلوں کا اندازہ نہیں ہوتامری بس...          5\n",
       "19  خود پکارے گی جو منزل تو ٹھہر جاؤں گاورنہ خوددا...          5\n",
       "20  اس راز کو کیا جانیں ساحل کے تماشائیہم ڈوب کے س...          5\n",
       "21  ساتھ کس کو چاہیے اب دھوپ کاٹھنڈ میں لیں گے مزہ...          3\n",
       "22     بھلا برا وہ خدا کرے گاغریب تو بس دعا کرے گا...          5\n",
       "23  جو عشق میں گزارہ لمحہ پسند آیاآنکھوں میں بس گی...          5"
      ]
     },
     "execution_count": 15,
     "metadata": {},
     "output_type": "execute_result"
    }
   ],
   "source": [
    "df_sad"
   ]
  },
  {
   "cell_type": "code",
   "execution_count": 16,
   "id": "96820fa3-8dbf-4f42-8068-c7c4637b99fd",
   "metadata": {},
   "outputs": [
    {
     "data": {
      "text/html": [
       "<div>\n",
       "<style scoped>\n",
       "    .dataframe tbody tr th:only-of-type {\n",
       "        vertical-align: middle;\n",
       "    }\n",
       "\n",
       "    .dataframe tbody tr th {\n",
       "        vertical-align: top;\n",
       "    }\n",
       "\n",
       "    .dataframe thead th {\n",
       "        text-align: right;\n",
       "    }\n",
       "</style>\n",
       "<table border=\"1\" class=\"dataframe\">\n",
       "  <thead>\n",
       "    <tr style=\"text-align: right;\">\n",
       "      <th></th>\n",
       "      <th>string</th>\n",
       "      <th>sentiment</th>\n",
       "    </tr>\n",
       "  </thead>\n",
       "  <tbody>\n",
       "    <tr>\n",
       "      <th>0</th>\n",
       "      <td>دھوبی کا کتا ہوں گھر کا نہ گھاٹ کابیگم بارہا ک...</td>\n",
       "      <td>3</td>\n",
       "    </tr>\n",
       "    <tr>\n",
       "      <th>1</th>\n",
       "      <td>کبھی دادی لگتی ھے کبھی نانی لگتی ھے ماڈل ھے پ...</td>\n",
       "      <td>1</td>\n",
       "    </tr>\n",
       "    <tr>\n",
       "      <th>2</th>\n",
       "      <td>ابتدا عشق میں یوں ہوا دل خراب آدھاکے جیسے سیکھ...</td>\n",
       "      <td>3</td>\n",
       "    </tr>\n",
       "    <tr>\n",
       "      <th>3</th>\n",
       "      <td>وہ جب ناراض ہوتے ہیں تو \"کانپیں ٹانگ\" جاتی ہیں...</td>\n",
       "      <td>1</td>\n",
       "    </tr>\n",
       "    <tr>\n",
       "      <th>4</th>\n",
       "      <td>اتنا دبلا ہو گیا ہوں صنم تیری جدائی سےکھٹمل بھ...</td>\n",
       "      <td>1</td>\n",
       "    </tr>\n",
       "    <tr>\n",
       "      <th>5</th>\n",
       "      <td>ہم نے مانا کہ رپلائی نہ کرو گے تم لیکنٹرائی کر...</td>\n",
       "      <td>5</td>\n",
       "    </tr>\n",
       "    <tr>\n",
       "      <th>6</th>\n",
       "      <td>جس بھی شادی میں جاتا ہوںکسی نہ کسی لڑکی سے پیا...</td>\n",
       "      <td>5</td>\n",
       "    </tr>\n",
       "    <tr>\n",
       "      <th>7</th>\n",
       "      <td>اگر تمہارے وعدے نہ ہوتے کچےتو اب ہوتے ہمارے دو...</td>\n",
       "      <td>3</td>\n",
       "    </tr>\n",
       "    <tr>\n",
       "      <th>8</th>\n",
       "      <td>یہ اتوار نہیں آساں بس اِتنا ہی سمجھ لیجئےاِک ک...</td>\n",
       "      <td>1</td>\n",
       "    </tr>\n",
       "    <tr>\n",
       "      <th>9</th>\n",
       "      <td>گھر میں اگر کوئی عقل کی بات کردوتو سب یہی پوچھ...</td>\n",
       "      <td>3</td>\n",
       "    </tr>\n",
       "    <tr>\n",
       "      <th>10</th>\n",
       "      <td>افریقہ میں ایک کالے شوہر نےاپنی کالی بیوی کو ک...</td>\n",
       "      <td>5</td>\n",
       "    </tr>\n",
       "    <tr>\n",
       "      <th>11</th>\n",
       "      <td>ایک سال سے میں شادی کے لئے جو وظیفہ پڑھ رہا تھ...</td>\n",
       "      <td>5</td>\n",
       "    </tr>\n",
       "    <tr>\n",
       "      <th>12</th>\n",
       "      <td>ہم کو کرنٹ لگا ھے چاہت کا ہمارے عشق کے بٹن شا ...</td>\n",
       "      <td>5</td>\n",
       "    </tr>\n",
       "    <tr>\n",
       "      <th>13</th>\n",
       "      <td>سالوں بعد جب ملیں گے تو کیا کہیں گےہم ایک دوجے...</td>\n",
       "      <td>1</td>\n",
       "    </tr>\n",
       "    <tr>\n",
       "      <th>14</th>\n",
       "      <td>بیگم کو چڑھا ھے شوق سیلفی کھچوانے کا کیمرے کے...</td>\n",
       "      <td>3</td>\n",
       "    </tr>\n",
       "    <tr>\n",
       "      <th>15</th>\n",
       "      <td>دھوبی کا کتا ہوں گھر کا نہ گھاٹ کابیگم بارہا ک...</td>\n",
       "      <td>3</td>\n",
       "    </tr>\n",
       "    <tr>\n",
       "      <th>16</th>\n",
       "      <td>سب جھاڑ پھونک سیکھ گئے شیخ جی سے ہم مرغے کو ذب...</td>\n",
       "      <td>5</td>\n",
       "    </tr>\n",
       "    <tr>\n",
       "      <th>17</th>\n",
       "      <td>ہے کامیابیٔ مرداں میں ہاتھ عورت کا مگر تو ایک ...</td>\n",
       "      <td>5</td>\n",
       "    </tr>\n",
       "    <tr>\n",
       "      <th>18</th>\n",
       "      <td>صرف محنت کیا ہے انورؔ کامیابی کے لئے کوئی اوپر...</td>\n",
       "      <td>1</td>\n",
       "    </tr>\n",
       "    <tr>\n",
       "      <th>19</th>\n",
       "      <td>آم تیری یہ خوش نصیبی ہے ورنہ لنگڑوں پہ کون مرت...</td>\n",
       "      <td>5</td>\n",
       "    </tr>\n",
       "  </tbody>\n",
       "</table>\n",
       "</div>"
      ],
      "text/plain": [
       "                                               string  sentiment\n",
       "0   دھوبی کا کتا ہوں گھر کا نہ گھاٹ کابیگم بارہا ک...          3\n",
       "1    کبھی دادی لگتی ھے کبھی نانی لگتی ھے ماڈل ھے پ...          1\n",
       "2   ابتدا عشق میں یوں ہوا دل خراب آدھاکے جیسے سیکھ...          3\n",
       "3   وہ جب ناراض ہوتے ہیں تو \"کانپیں ٹانگ\" جاتی ہیں...          1\n",
       "4   اتنا دبلا ہو گیا ہوں صنم تیری جدائی سےکھٹمل بھ...          1\n",
       "5   ہم نے مانا کہ رپلائی نہ کرو گے تم لیکنٹرائی کر...          5\n",
       "6   جس بھی شادی میں جاتا ہوںکسی نہ کسی لڑکی سے پیا...          5\n",
       "7   اگر تمہارے وعدے نہ ہوتے کچےتو اب ہوتے ہمارے دو...          3\n",
       "8   یہ اتوار نہیں آساں بس اِتنا ہی سمجھ لیجئےاِک ک...          1\n",
       "9   گھر میں اگر کوئی عقل کی بات کردوتو سب یہی پوچھ...          3\n",
       "10  افریقہ میں ایک کالے شوہر نےاپنی کالی بیوی کو ک...          5\n",
       "11  ایک سال سے میں شادی کے لئے جو وظیفہ پڑھ رہا تھ...          5\n",
       "12  ہم کو کرنٹ لگا ھے چاہت کا ہمارے عشق کے بٹن شا ...          5\n",
       "13  سالوں بعد جب ملیں گے تو کیا کہیں گےہم ایک دوجے...          1\n",
       "14   بیگم کو چڑھا ھے شوق سیلفی کھچوانے کا کیمرے کے...          3\n",
       "15  دھوبی کا کتا ہوں گھر کا نہ گھاٹ کابیگم بارہا ک...          3\n",
       "16  سب جھاڑ پھونک سیکھ گئے شیخ جی سے ہم مرغے کو ذب...          5\n",
       "17  ہے کامیابیٔ مرداں میں ہاتھ عورت کا مگر تو ایک ...          5\n",
       "18  صرف محنت کیا ہے انورؔ کامیابی کے لئے کوئی اوپر...          1\n",
       "19  آم تیری یہ خوش نصیبی ہے ورنہ لنگڑوں پہ کون مرت...          5"
      ]
     },
     "execution_count": 16,
     "metadata": {},
     "output_type": "execute_result"
    }
   ],
   "source": [
    "df_funny"
   ]
  },
  {
   "cell_type": "code",
   "execution_count": 17,
   "id": "5e1c0141",
   "metadata": {},
   "outputs": [
    {
     "name": "stdout",
     "output_type": "stream",
     "text": [
      "Average Sentiment (Sad Poetry):  3.6666666666666665\n"
     ]
    }
   ],
   "source": [
    "print(\"Average Sentiment (Sad Poetry): \", df_sad['sentiment'].mean())"
   ]
  },
  {
   "cell_type": "code",
   "execution_count": 18,
   "id": "29cb5410-00d8-4e1b-845d-ff251bbe592a",
   "metadata": {},
   "outputs": [
    {
     "name": "stdout",
     "output_type": "stream",
     "text": [
      "Average Sentiment (Funny Poetry):  3.2\n"
     ]
    }
   ],
   "source": [
    "print(\"Average Sentiment (Funny Poetry): \", df_funny['sentiment'].mean())"
   ]
  },
  {
   "cell_type": "code",
   "execution_count": 19,
   "id": "232ae6ca-01e2-4e1a-a80b-d811617cfca5",
   "metadata": {},
   "outputs": [],
   "source": [
    "np.savetxt(r'text_sad.txt', df_sad['string'].values, fmt='%s', encoding='utf-8')\n",
    "np.savetxt(r'text_funny.txt', df_funny['string'].values, fmt='%s', encoding='utf-8')"
   ]
  },
  {
   "cell_type": "code",
   "execution_count": null,
   "id": "e796d8e1-fa2c-48c4-9712-7de1e41e9ad7",
   "metadata": {},
   "outputs": [],
   "source": []
  }
 ],
 "metadata": {
  "kernelspec": {
   "display_name": "Python 3 (ipykernel)",
   "language": "python",
   "name": "python3"
  },
  "language_info": {
   "codemirror_mode": {
    "name": "ipython",
    "version": 3
   },
   "file_extension": ".py",
   "mimetype": "text/x-python",
   "name": "python",
   "nbconvert_exporter": "python",
   "pygments_lexer": "ipython3",
   "version": "3.10.4"
  }
 },
 "nbformat": 4,
 "nbformat_minor": 5
}
