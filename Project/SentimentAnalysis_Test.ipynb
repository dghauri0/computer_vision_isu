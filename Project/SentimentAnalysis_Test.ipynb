{
 "cells": [
  {
   "cell_type": "markdown",
   "id": "48a4dcf9",
   "metadata": {},
   "source": [
    "# Dependency Handling"
   ]
  },
  {
   "cell_type": "code",
   "execution_count": 1,
   "id": "cfd66a9d",
   "metadata": {},
   "outputs": [
    {
     "name": "stdout",
     "output_type": "stream",
     "text": [
      "Requirement already satisfied: torch in c:\\users\\dawood ghauri\\anaconda3\\envs\\py39\\lib\\site-packages (1.10.0)\n",
      "Requirement already satisfied: torchvision in c:\\users\\dawood ghauri\\anaconda3\\envs\\py39\\lib\\site-packages (0.11.1)\n",
      "Requirement already satisfied: torchaudio in c:\\users\\dawood ghauri\\anaconda3\\envs\\py39\\lib\\site-packages (0.10.0)\n",
      "Requirement already satisfied: typing-extensions in c:\\users\\dawood ghauri\\anaconda3\\envs\\py39\\lib\\site-packages (from torch) (4.0.1)\n",
      "Requirement already satisfied: pillow!=8.3.0,>=5.3.0 in c:\\users\\dawood ghauri\\anaconda3\\envs\\py39\\lib\\site-packages (from torchvision) (8.4.0)\n",
      "Requirement already satisfied: numpy in c:\\users\\dawood ghauri\\anaconda3\\envs\\py39\\lib\\site-packages (from torchvision) (1.21.4)\n"
     ]
    }
   ],
   "source": [
    "# Install pytorch\n",
    "\n",
    "!pip3 install torch torchvision torchaudio"
   ]
  },
  {
   "cell_type": "code",
   "execution_count": 2,
   "id": "38ad2f79",
   "metadata": {},
   "outputs": [
    {
     "name": "stdout",
     "output_type": "stream",
     "text": [
      "Requirement already satisfied: requests in c:\\users\\dawood ghauri\\anaconda3\\envs\\py39\\lib\\site-packages (2.26.0)\n",
      "Requirement already satisfied: transformers in c:\\users\\dawood ghauri\\anaconda3\\envs\\py39\\lib\\site-packages (4.13.0)\n",
      "Requirement already satisfied: beautifulsoup4 in c:\\users\\dawood ghauri\\anaconda3\\envs\\py39\\lib\\site-packages (4.10.0)\n",
      "Requirement already satisfied: pandas in c:\\users\\dawood ghauri\\anaconda3\\envs\\py39\\lib\\site-packages (1.3.5)\n",
      "Requirement already satisfied: numpy in c:\\users\\dawood ghauri\\anaconda3\\envs\\py39\\lib\\site-packages (1.21.4)\n",
      "Requirement already satisfied: idna<4,>=2.5 in c:\\users\\dawood ghauri\\anaconda3\\envs\\py39\\lib\\site-packages (from requests) (3.3)\n",
      "Requirement already satisfied: urllib3<1.27,>=1.21.1 in c:\\users\\dawood ghauri\\anaconda3\\envs\\py39\\lib\\site-packages (from requests) (1.26.7)\n",
      "Requirement already satisfied: certifi>=2017.4.17 in c:\\users\\dawood ghauri\\anaconda3\\envs\\py39\\lib\\site-packages (from requests) (2021.10.8)\n",
      "Requirement already satisfied: charset-normalizer~=2.0.0 in c:\\users\\dawood ghauri\\anaconda3\\envs\\py39\\lib\\site-packages (from requests) (2.0.9)\n",
      "Requirement already satisfied: regex!=2019.12.17 in c:\\users\\dawood ghauri\\anaconda3\\envs\\py39\\lib\\site-packages (from transformers) (2021.11.10)\n",
      "Requirement already satisfied: tokenizers<0.11,>=0.10.1 in c:\\users\\dawood ghauri\\anaconda3\\envs\\py39\\lib\\site-packages (from transformers) (0.10.3)\n",
      "Requirement already satisfied: tqdm>=4.27 in c:\\users\\dawood ghauri\\anaconda3\\envs\\py39\\lib\\site-packages (from transformers) (4.62.3)\n",
      "Requirement already satisfied: pyyaml>=5.1 in c:\\users\\dawood ghauri\\anaconda3\\envs\\py39\\lib\\site-packages (from transformers) (6.0)\n",
      "Requirement already satisfied: filelock in c:\\users\\dawood ghauri\\anaconda3\\envs\\py39\\lib\\site-packages (from transformers) (3.4.0)\n",
      "Requirement already satisfied: packaging>=20.0 in c:\\users\\dawood ghauri\\anaconda3\\envs\\py39\\lib\\site-packages (from transformers) (21.3)\n",
      "Requirement already satisfied: huggingface-hub<1.0,>=0.1.0 in c:\\users\\dawood ghauri\\anaconda3\\envs\\py39\\lib\\site-packages (from transformers) (0.2.1)\n",
      "Requirement already satisfied: sacremoses in c:\\users\\dawood ghauri\\anaconda3\\envs\\py39\\lib\\site-packages (from transformers) (0.0.46)\n",
      "Requirement already satisfied: soupsieve>1.2 in c:\\users\\dawood ghauri\\anaconda3\\envs\\py39\\lib\\site-packages (from beautifulsoup4) (2.3.1)\n",
      "Requirement already satisfied: python-dateutil>=2.7.3 in c:\\users\\dawood ghauri\\anaconda3\\envs\\py39\\lib\\site-packages (from pandas) (2.8.2)\n",
      "Requirement already satisfied: pytz>=2017.3 in c:\\users\\dawood ghauri\\anaconda3\\envs\\py39\\lib\\site-packages (from pandas) (2021.3)\n",
      "Requirement already satisfied: typing-extensions>=3.7.4.3 in c:\\users\\dawood ghauri\\anaconda3\\envs\\py39\\lib\\site-packages (from huggingface-hub<1.0,>=0.1.0->transformers) (4.0.1)\n",
      "Requirement already satisfied: pyparsing!=3.0.5,>=2.0.2 in c:\\users\\dawood ghauri\\anaconda3\\envs\\py39\\lib\\site-packages (from packaging>=20.0->transformers) (3.0.6)\n",
      "Requirement already satisfied: six>=1.5 in c:\\users\\dawood ghauri\\anaconda3\\envs\\py39\\lib\\site-packages (from python-dateutil>=2.7.3->pandas) (1.16.0)\n",
      "Requirement already satisfied: colorama in c:\\users\\dawood ghauri\\anaconda3\\envs\\py39\\lib\\site-packages (from tqdm>=4.27->transformers) (0.4.4)\n",
      "Requirement already satisfied: joblib in c:\\users\\dawood ghauri\\anaconda3\\envs\\py39\\lib\\site-packages (from sacremoses->transformers) (1.1.0)\n",
      "Requirement already satisfied: click in c:\\users\\dawood ghauri\\anaconda3\\envs\\py39\\lib\\site-packages (from sacremoses->transformers) (8.0.3)\n"
     ]
    }
   ],
   "source": [
    "# Install Transformers (using for NLP model - allows for easily import model)\n",
    "# Install Requests (allow requests to webpages for analysis)\n",
    "# Install BeautifulSoup (extract relevant data from webpage)\n",
    "# Install Pandas and Numpy (structure data)\n",
    "\n",
    "!pip3 install requests transformers beautifulsoup4 pandas numpy"
   ]
  },
  {
   "cell_type": "code",
   "execution_count": 3,
   "id": "d8db57b7",
   "metadata": {},
   "outputs": [],
   "source": [
    "# Tokenizer - Parse through string to get numbers.\n",
    "# AutoModelForSequenceClassification - Give us architecture from transformers to load in NLP model\n",
    "from transformers import AutoTokenizer, AutoModelForSequenceClassification\n",
    "import torch\n",
    "import requests\n",
    "from bs4 import BeautifulSoup\n",
    "import re\n",
    "import numpy as np\n",
    "import pandas as pd"
   ]
  },
  {
   "cell_type": "markdown",
   "id": "b2d2e4fb",
   "metadata": {},
   "source": [
    "# Setup Model (Initialization)"
   ]
  },
  {
   "cell_type": "code",
   "execution_count": 4,
   "id": "db861ae3",
   "metadata": {},
   "outputs": [],
   "source": [
    "tokenizer = AutoTokenizer.from_pretrained('nlptown/bert-base-multilingual-uncased-sentiment')\n",
    "\n",
    "model = AutoModelForSequenceClassification.from_pretrained('nlptown/bert-base-multilingual-uncased-sentiment')"
   ]
  },
  {
   "cell_type": "markdown",
   "id": "35e70ca5",
   "metadata": {},
   "source": [
    "# Encoding and Sentiment Calculation"
   ]
  },
  {
   "cell_type": "code",
   "execution_count": 5,
   "id": "48084c31",
   "metadata": {},
   "outputs": [],
   "source": [
    "tokens = tokenizer.encode('I loved taking 482X with Dr. Duwe!', return_tensors='pt')"
   ]
  },
  {
   "cell_type": "code",
   "execution_count": 6,
   "id": "d08822b0",
   "metadata": {},
   "outputs": [],
   "source": [
    "# Debug\n",
    "\n",
    "# tokens\n",
    "# tokens[0]\n",
    "# tokenizer.decode(tokens[0])"
   ]
  },
  {
   "cell_type": "code",
   "execution_count": 7,
   "id": "31ca81c2",
   "metadata": {},
   "outputs": [],
   "source": [
    "result = model(tokens)"
   ]
  },
  {
   "cell_type": "code",
   "execution_count": 8,
   "id": "94eb2dcb",
   "metadata": {},
   "outputs": [
    {
     "data": {
      "text/plain": [
       "SequenceClassifierOutput(loss=None, logits=tensor([[-2.1400, -2.0940, -0.7388,  1.3721,  2.8214]],\n",
       "       grad_fn=<AddmmBackward0>), hidden_states=None, attentions=None)"
      ]
     },
     "execution_count": 8,
     "metadata": {},
     "output_type": "execute_result"
    }
   ],
   "source": [
    "result"
   ]
  },
  {
   "cell_type": "code",
   "execution_count": 9,
   "id": "0857f309",
   "metadata": {},
   "outputs": [
    {
     "name": "stdout",
     "output_type": "stream",
     "text": [
      "Star Rating:  5\n"
     ]
    }
   ],
   "source": [
    "star_rating = int(torch.argmax(result.logits)) + 1\n",
    "print('Star Rating: ', star_rating)"
   ]
  },
  {
   "cell_type": "markdown",
   "id": "63300b0a",
   "metadata": {},
   "source": [
    "#  Parse Website"
   ]
  },
  {
   "cell_type": "code",
   "execution_count": 10,
   "id": "8620c3f3",
   "metadata": {
    "scrolled": true
   },
   "outputs": [],
   "source": [
    "headers = {'User-Agent': 'Mozilla/5.0 (Windows NT 10.0; Win64; x64) AppleWebKit/537.36 (KHTML, like Gecko) Chrome/96.0.4664.93 Safari/537.36'}\n",
    "req = requests.get('https://www.niche.com/colleges/iowa-state-university/reviews/', headers=headers)\n",
    "soup = BeautifulSoup(req.text, 'html.parser')\n",
    "regex = re.compile('reviewBody')\n",
    "result_website = soup.find_all('div', {'itemprop':regex})\n",
    "reviews = [i.text for i in result_website]\n",
    "\n",
    "# Debug\n",
    "#reviews"
   ]
  },
  {
   "cell_type": "markdown",
   "id": "fe8e240c",
   "metadata": {},
   "source": [
    "# Load Website Data into Dataframe and Get Star Rating"
   ]
  },
  {
   "cell_type": "code",
   "execution_count": 11,
   "id": "a786f2c2",
   "metadata": {},
   "outputs": [],
   "source": [
    "df = pd.DataFrame(np.array(reviews), columns=['string'])\n",
    "\n",
    "# Debug\n",
    "#soup\n",
    "#result_website\n",
    "#reviews\n",
    "#df['string'].iloc[1]"
   ]
  },
  {
   "cell_type": "code",
   "execution_count": 12,
   "id": "83f2bdbd",
   "metadata": {},
   "outputs": [],
   "source": [
    "def StringToScore(string):\n",
    "    tokens = tokenizer.encode(string, return_tensors='pt')\n",
    "    output = model(tokens)\n",
    "    return int(torch.argmax(output.logits)) + 1\n",
    "    "
   ]
  },
  {
   "cell_type": "code",
   "execution_count": 13,
   "id": "289d1eaa",
   "metadata": {},
   "outputs": [
    {
     "data": {
      "text/plain": [
       "5"
      ]
     },
     "execution_count": 13,
     "metadata": {},
     "output_type": "execute_result"
    }
   ],
   "source": [
    "# Debug\n",
    "StringToScore(df['string'].iloc[0])"
   ]
  },
  {
   "cell_type": "code",
   "execution_count": 14,
   "id": "f2e0a32f",
   "metadata": {},
   "outputs": [],
   "source": [
    "df['sentiment'] = df['string'].apply(lambda x: StringToScore(x[:1024]))"
   ]
  },
  {
   "cell_type": "code",
   "execution_count": 15,
   "id": "433634d8",
   "metadata": {},
   "outputs": [
    {
     "data": {
      "text/html": [
       "<div>\n",
       "<style scoped>\n",
       "    .dataframe tbody tr th:only-of-type {\n",
       "        vertical-align: middle;\n",
       "    }\n",
       "\n",
       "    .dataframe tbody tr th {\n",
       "        vertical-align: top;\n",
       "    }\n",
       "\n",
       "    .dataframe thead th {\n",
       "        text-align: right;\n",
       "    }\n",
       "</style>\n",
       "<table border=\"1\" class=\"dataframe\">\n",
       "  <thead>\n",
       "    <tr style=\"text-align: right;\">\n",
       "      <th></th>\n",
       "      <th>string</th>\n",
       "      <th>sentiment</th>\n",
       "    </tr>\n",
       "  </thead>\n",
       "  <tbody>\n",
       "    <tr>\n",
       "      <th>0</th>\n",
       "      <td>I am only a high school freshman but I am look...</td>\n",
       "      <td>5</td>\n",
       "    </tr>\n",
       "    <tr>\n",
       "      <th>1</th>\n",
       "      <td>Great campus! Helpful professors, and most imp...</td>\n",
       "      <td>5</td>\n",
       "    </tr>\n",
       "    <tr>\n",
       "      <th>2</th>\n",
       "      <td>Iowa state doesn’t care about its students. Fo...</td>\n",
       "      <td>1</td>\n",
       "    </tr>\n",
       "    <tr>\n",
       "      <th>3</th>\n",
       "      <td>There are numerous things to love about Iowa S...</td>\n",
       "      <td>5</td>\n",
       "    </tr>\n",
       "    <tr>\n",
       "      <th>4</th>\n",
       "      <td>Iowa State University is a great community tha...</td>\n",
       "      <td>4</td>\n",
       "    </tr>\n",
       "    <tr>\n",
       "      <th>5</th>\n",
       "      <td>It is a great school with great education, but...</td>\n",
       "      <td>3</td>\n",
       "    </tr>\n",
       "    <tr>\n",
       "      <th>6</th>\n",
       "      <td>It is a good value school, compared with other...</td>\n",
       "      <td>4</td>\n",
       "    </tr>\n",
       "    <tr>\n",
       "      <th>7</th>\n",
       "      <td>Teachers are a bit harsh and don't seem to car...</td>\n",
       "      <td>4</td>\n",
       "    </tr>\n",
       "    <tr>\n",
       "      <th>8</th>\n",
       "      <td>Terrible university in everything. I did not g...</td>\n",
       "      <td>1</td>\n",
       "    </tr>\n",
       "    <tr>\n",
       "      <th>9</th>\n",
       "      <td>Overall Iowa State has been a positive experie...</td>\n",
       "      <td>4</td>\n",
       "    </tr>\n",
       "    <tr>\n",
       "      <th>10</th>\n",
       "      <td>Very great university with plenty of great opp...</td>\n",
       "      <td>5</td>\n",
       "    </tr>\n",
       "    <tr>\n",
       "      <th>11</th>\n",
       "      <td>Beautiful campus and great student organizatio...</td>\n",
       "      <td>5</td>\n",
       "    </tr>\n",
       "    <tr>\n",
       "      <th>12</th>\n",
       "      <td>the school's many clubs or events designed to ...</td>\n",
       "      <td>4</td>\n",
       "    </tr>\n",
       "    <tr>\n",
       "      <th>13</th>\n",
       "      <td>ISU has  very beautiful campus with lots of gr...</td>\n",
       "      <td>5</td>\n",
       "    </tr>\n",
       "    <tr>\n",
       "      <th>14</th>\n",
       "      <td>Iowa State is a great school. You will not fin...</td>\n",
       "      <td>5</td>\n",
       "    </tr>\n",
       "    <tr>\n",
       "      <th>15</th>\n",
       "      <td>Everyone is super helpful and the campus is be...</td>\n",
       "      <td>5</td>\n",
       "    </tr>\n",
       "    <tr>\n",
       "      <th>16</th>\n",
       "      <td>Beautiful campus, knowledgeable staff, and fri...</td>\n",
       "      <td>5</td>\n",
       "    </tr>\n",
       "    <tr>\n",
       "      <th>17</th>\n",
       "      <td>Overall it is a great area to meet friends and...</td>\n",
       "      <td>3</td>\n",
       "    </tr>\n",
       "    <tr>\n",
       "      <th>18</th>\n",
       "      <td>With COVID, online learning has become a major...</td>\n",
       "      <td>5</td>\n",
       "    </tr>\n",
       "    <tr>\n",
       "      <th>19</th>\n",
       "      <td>I have enjoyed living and studying in Ames. Al...</td>\n",
       "      <td>5</td>\n",
       "    </tr>\n",
       "  </tbody>\n",
       "</table>\n",
       "</div>"
      ],
      "text/plain": [
       "                                               string  sentiment\n",
       "0   I am only a high school freshman but I am look...          5\n",
       "1   Great campus! Helpful professors, and most imp...          5\n",
       "2   Iowa state doesn’t care about its students. Fo...          1\n",
       "3   There are numerous things to love about Iowa S...          5\n",
       "4   Iowa State University is a great community tha...          4\n",
       "5   It is a great school with great education, but...          3\n",
       "6   It is a good value school, compared with other...          4\n",
       "7   Teachers are a bit harsh and don't seem to car...          4\n",
       "8   Terrible university in everything. I did not g...          1\n",
       "9   Overall Iowa State has been a positive experie...          4\n",
       "10  Very great university with plenty of great opp...          5\n",
       "11  Beautiful campus and great student organizatio...          5\n",
       "12  the school's many clubs or events designed to ...          4\n",
       "13  ISU has  very beautiful campus with lots of gr...          5\n",
       "14  Iowa State is a great school. You will not fin...          5\n",
       "15  Everyone is super helpful and the campus is be...          5\n",
       "16  Beautiful campus, knowledgeable staff, and fri...          5\n",
       "17  Overall it is a great area to meet friends and...          3\n",
       "18  With COVID, online learning has become a major...          5\n",
       "19  I have enjoyed living and studying in Ames. Al...          5"
      ]
     },
     "execution_count": 15,
     "metadata": {},
     "output_type": "execute_result"
    }
   ],
   "source": [
    "df"
   ]
  },
  {
   "cell_type": "code",
   "execution_count": 16,
   "id": "5e1c0141",
   "metadata": {},
   "outputs": [
    {
     "name": "stdout",
     "output_type": "stream",
     "text": [
      "Average Sentiment:  4.15\n"
     ]
    }
   ],
   "source": [
    "print(\"Average Sentiment: \", df['sentiment'].mean())"
   ]
  },
  {
   "cell_type": "code",
   "execution_count": null,
   "id": "01951a78",
   "metadata": {},
   "outputs": [],
   "source": []
  }
 ],
 "metadata": {
  "kernelspec": {
   "display_name": "Python 3 (ipykernel)",
   "language": "python",
   "name": "python3"
  },
  "language_info": {
   "codemirror_mode": {
    "name": "ipython",
    "version": 3
   },
   "file_extension": ".py",
   "mimetype": "text/x-python",
   "name": "python",
   "nbconvert_exporter": "python",
   "pygments_lexer": "ipython3",
   "version": "3.8.12"
  }
 },
 "nbformat": 4,
 "nbformat_minor": 5
}
