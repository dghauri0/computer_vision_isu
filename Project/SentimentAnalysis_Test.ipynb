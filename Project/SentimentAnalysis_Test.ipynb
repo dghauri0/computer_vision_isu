{
 "cells": [
  {
   "cell_type": "markdown",
   "id": "48a4dcf9",
   "metadata": {},
   "source": [
    "# Dependency Handling"
   ]
  },
  {
   "cell_type": "code",
   "execution_count": 1,
   "id": "cfd66a9d",
   "metadata": {},
   "outputs": [
    {
     "name": "stdout",
     "output_type": "stream",
     "text": [
      "Requirement already satisfied: torch in c:\\users\\dawoo\\appdata\\local\\programs\\python\\python310\\lib\\site-packages (1.11.0)\n",
      "Requirement already satisfied: torchvision in c:\\users\\dawoo\\appdata\\local\\programs\\python\\python310\\lib\\site-packages (0.12.0)\n",
      "Requirement already satisfied: torchaudio in c:\\users\\dawoo\\appdata\\local\\programs\\python\\python310\\lib\\site-packages (0.11.0)\n",
      "Requirement already satisfied: typing-extensions in c:\\users\\dawoo\\appdata\\local\\programs\\python\\python310\\lib\\site-packages (from torch) (4.1.1)\n",
      "Requirement already satisfied: requests in c:\\users\\dawoo\\appdata\\local\\programs\\python\\python310\\lib\\site-packages (from torchvision) (2.27.1)\n",
      "Requirement already satisfied: pillow!=8.3.*,>=5.3.0 in c:\\users\\dawoo\\appdata\\local\\programs\\python\\python310\\lib\\site-packages (from torchvision) (9.1.0)\n",
      "Requirement already satisfied: numpy in c:\\users\\dawoo\\appdata\\local\\programs\\python\\python310\\lib\\site-packages (from torchvision) (1.22.3)\n",
      "Requirement already satisfied: charset-normalizer~=2.0.0 in c:\\users\\dawoo\\appdata\\local\\programs\\python\\python310\\lib\\site-packages (from requests->torchvision) (2.0.12)\n",
      "Requirement already satisfied: certifi>=2017.4.17 in c:\\users\\dawoo\\appdata\\local\\programs\\python\\python310\\lib\\site-packages (from requests->torchvision) (2021.10.8)\n",
      "Requirement already satisfied: idna<4,>=2.5 in c:\\users\\dawoo\\appdata\\local\\programs\\python\\python310\\lib\\site-packages (from requests->torchvision) (3.3)\n",
      "Requirement already satisfied: urllib3<1.27,>=1.21.1 in c:\\users\\dawoo\\appdata\\local\\programs\\python\\python310\\lib\\site-packages (from requests->torchvision) (1.26.9)\n"
     ]
    }
   ],
   "source": [
    "# Install pytorch\n",
    "\n",
    "!pip3 install torch torchvision torchaudio\n",
    "#!pip3 install torch torchvision torchaudio --extra-index-url https://download.pytorch.org/whl/cu113"
   ]
  },
  {
   "cell_type": "code",
   "execution_count": 2,
   "id": "38ad2f79",
   "metadata": {},
   "outputs": [
    {
     "name": "stdout",
     "output_type": "stream",
     "text": [
      "Requirement already satisfied: requests in c:\\users\\dawoo\\appdata\\local\\programs\\python\\python310\\lib\\site-packages (2.27.1)\n",
      "Requirement already satisfied: transformers in c:\\users\\dawoo\\appdata\\local\\programs\\python\\python310\\lib\\site-packages (4.17.0)\n",
      "Requirement already satisfied: beautifulsoup4 in c:\\users\\dawoo\\appdata\\local\\programs\\python\\python310\\lib\\site-packages (4.10.0)\n",
      "Requirement already satisfied: pandas in c:\\users\\dawoo\\appdata\\local\\programs\\python\\python310\\lib\\site-packages (1.4.2)\n",
      "Requirement already satisfied: numpy in c:\\users\\dawoo\\appdata\\local\\programs\\python\\python310\\lib\\site-packages (1.22.3)\n",
      "Requirement already satisfied: idna<4,>=2.5 in c:\\users\\dawoo\\appdata\\local\\programs\\python\\python310\\lib\\site-packages (from requests) (3.3)\n",
      "Requirement already satisfied: urllib3<1.27,>=1.21.1 in c:\\users\\dawoo\\appdata\\local\\programs\\python\\python310\\lib\\site-packages (from requests) (1.26.9)\n",
      "Requirement already satisfied: charset-normalizer~=2.0.0 in c:\\users\\dawoo\\appdata\\local\\programs\\python\\python310\\lib\\site-packages (from requests) (2.0.12)\n",
      "Requirement already satisfied: certifi>=2017.4.17 in c:\\users\\dawoo\\appdata\\local\\programs\\python\\python310\\lib\\site-packages (from requests) (2021.10.8)\n",
      "Requirement already satisfied: regex!=2019.12.17 in c:\\users\\dawoo\\appdata\\local\\programs\\python\\python310\\lib\\site-packages (from transformers) (2022.3.15)\n",
      "Requirement already satisfied: tokenizers!=0.11.3,>=0.11.1 in c:\\users\\dawoo\\appdata\\local\\programs\\python\\python310\\lib\\site-packages (from transformers) (0.11.6)\n",
      "Requirement already satisfied: sacremoses in c:\\users\\dawoo\\appdata\\local\\programs\\python\\python310\\lib\\site-packages (from transformers) (0.0.49)\n",
      "Requirement already satisfied: huggingface-hub<1.0,>=0.1.0 in c:\\users\\dawoo\\appdata\\local\\programs\\python\\python310\\lib\\site-packages (from transformers) (0.4.0)\n",
      "Requirement already satisfied: tqdm>=4.27 in c:\\users\\dawoo\\appdata\\local\\programs\\python\\python310\\lib\\site-packages (from transformers) (4.64.0)\n",
      "Requirement already satisfied: pyyaml>=5.1 in c:\\users\\dawoo\\appdata\\local\\programs\\python\\python310\\lib\\site-packages (from transformers) (6.0)\n",
      "Requirement already satisfied: filelock in c:\\users\\dawoo\\appdata\\local\\programs\\python\\python310\\lib\\site-packages (from transformers) (3.6.0)\n",
      "Requirement already satisfied: packaging>=20.0 in c:\\users\\dawoo\\appdata\\local\\programs\\python\\python310\\lib\\site-packages (from transformers) (21.3)\n",
      "Requirement already satisfied: soupsieve>1.2 in c:\\users\\dawoo\\appdata\\local\\programs\\python\\python310\\lib\\site-packages (from beautifulsoup4) (2.3.1)\n",
      "Requirement already satisfied: python-dateutil>=2.8.1 in c:\\users\\dawoo\\appdata\\local\\programs\\python\\python310\\lib\\site-packages (from pandas) (2.8.2)\n",
      "Requirement already satisfied: pytz>=2020.1 in c:\\users\\dawoo\\appdata\\local\\programs\\python\\python310\\lib\\site-packages (from pandas) (2022.1)\n",
      "Requirement already satisfied: typing-extensions>=3.7.4.3 in c:\\users\\dawoo\\appdata\\local\\programs\\python\\python310\\lib\\site-packages (from huggingface-hub<1.0,>=0.1.0->transformers) (4.1.1)\n",
      "Requirement already satisfied: pyparsing!=3.0.5,>=2.0.2 in c:\\users\\dawoo\\appdata\\local\\programs\\python\\python310\\lib\\site-packages (from packaging>=20.0->transformers) (3.0.7)\n",
      "Requirement already satisfied: six>=1.5 in c:\\users\\dawoo\\appdata\\local\\programs\\python\\python310\\lib\\site-packages (from python-dateutil>=2.8.1->pandas) (1.16.0)\n",
      "Requirement already satisfied: colorama in c:\\users\\dawoo\\appdata\\local\\programs\\python\\python310\\lib\\site-packages (from tqdm>=4.27->transformers) (0.4.4)\n",
      "Requirement already satisfied: joblib in c:\\users\\dawoo\\appdata\\local\\programs\\python\\python310\\lib\\site-packages (from sacremoses->transformers) (1.1.0)\n",
      "Requirement already satisfied: click in c:\\users\\dawoo\\appdata\\local\\programs\\python\\python310\\lib\\site-packages (from sacremoses->transformers) (8.1.2)\n"
     ]
    }
   ],
   "source": [
    "# Install Transformers (using for NLP model - allows for easily import model)\n",
    "# Install Requests (allow requests to webpages for analysis)\n",
    "# Install BeautifulSoup (extract relevant data from webpage)\n",
    "# Install Pandas and Numpy (structure data)\n",
    "\n",
    "!pip3 install requests transformers beautifulsoup4 pandas numpy"
   ]
  },
  {
   "cell_type": "code",
   "execution_count": 3,
   "id": "d8db57b7",
   "metadata": {},
   "outputs": [
    {
     "name": "stderr",
     "output_type": "stream",
     "text": [
      "C:\\Users\\dawoo\\AppData\\Local\\Programs\\Python\\Python310\\lib\\site-packages\\tqdm\\auto.py:22: TqdmWarning: IProgress not found. Please update jupyter and ipywidgets. See https://ipywidgets.readthedocs.io/en/stable/user_install.html\n",
      "  from .autonotebook import tqdm as notebook_tqdm\n"
     ]
    }
   ],
   "source": [
    "# Tokenizer - Parse through string to get numbers.\n",
    "# AutoModelForSequenceClassification - Give us architecture from transformers to load in NLP model\n",
    "from transformers import AutoTokenizer, AutoModelForSequenceClassification, pipeline\n",
    "import torch\n",
    "import requests\n",
    "from bs4 import BeautifulSoup\n",
    "import re\n",
    "import numpy as np\n",
    "import pandas as pd\n",
    "import matplotlib.pyplot as plt\n",
    "pd.set_option('max_colwidth', 400)"
   ]
  },
  {
   "cell_type": "markdown",
   "id": "b2d2e4fb",
   "metadata": {},
   "source": [
    "# Setup Model (Initialization)"
   ]
  },
  {
   "cell_type": "code",
   "execution_count": null,
   "id": "db861ae3",
   "metadata": {},
   "outputs": [],
   "source": [
    "# Multilingual dataset -- based on latin scripts\n",
    "tokenizer = AutoTokenizer.from_pretrained('nlptown/bert-base-multilingual-uncased-sentiment')\n",
    "model = AutoModelForSequenceClassification.from_pretrained('nlptown/bert-base-multilingual-uncased-sentiment')\n",
    "\n",
    "# Arabic dataset -- based on abjad scripts\n",
    "sa = pipeline('text-classification', model='CAMeL-Lab/bert-base-arabic-camelbert-da-sentiment')\n",
    "sa1 = pipeline('sentiment-analysis', model='CAMeL-Lab/bert-base-arabic-camelbert-msa-sentiment')\n",
    "sa2 = pipeline('sentiment-analysis', model='CAMeL-Lab/bert-base-arabic-camelbert-ca-sentiment')\n",
    "sa3 = pipeline('sentiment-analysis', model='CAMeL-Lab/bert-base-arabic-camelbert-mix-sentiment')\n",
    "sentences = ['أنا بخير']\n",
    "tmp = sa(sentences)"
   ]
  },
  {
   "cell_type": "code",
   "execution_count": null,
   "id": "aeefb0ed-f48d-46f7-b9d8-7bb3e3096518",
   "metadata": {},
   "outputs": [],
   "source": [
    "\n",
    "len(tmp)\n",
    "tmp\n",
    "tmp[0]['label']"
   ]
  },
  {
   "cell_type": "markdown",
   "id": "35e70ca5",
   "metadata": {},
   "source": [
    "# Encoding and Sentiment Calculation"
   ]
  },
  {
   "cell_type": "code",
   "execution_count": null,
   "id": "48084c31",
   "metadata": {},
   "outputs": [],
   "source": [
    "tokens0 = tokenizer.encode('I am having a horrible day', return_tensors='pt') \n",
    "tokens1 = tokenizer.encode('Yay!!', return_tensors='pt') # Means \"happy\" \n",
    "tokens2 = tokenizer.encode('اِک شخص بددُعا سی کر گیا مُجھ پر, وُہ عہدِ ترقِ وفَاسِی کرگیا مُجھ پر', return_tensors='pt') # Negative sentence\n",
    "tokens0"
   ]
  },
  {
   "cell_type": "code",
   "execution_count": null,
   "id": "d08822b0",
   "metadata": {},
   "outputs": [],
   "source": [
    "# Debug\n",
    "\n",
    "# tokens\n",
    "# tokens[0]\n",
    "# tokenizer.decode(tokens[0])"
   ]
  },
  {
   "cell_type": "code",
   "execution_count": null,
   "id": "31ca81c2",
   "metadata": {},
   "outputs": [],
   "source": [
    "result0 = model(tokens0)\n",
    "result1 = model(tokens1)\n",
    "result2 = model(tokens2)"
   ]
  },
  {
   "cell_type": "code",
   "execution_count": null,
   "id": "94eb2dcb",
   "metadata": {},
   "outputs": [],
   "source": [
    "print(result0)\n",
    "print(result1)\n",
    "print(result2)"
   ]
  },
  {
   "cell_type": "code",
   "execution_count": null,
   "id": "0857f309",
   "metadata": {
    "tags": []
   },
   "outputs": [],
   "source": [
    "star_rating0 = int(torch.argmax(result0.logits)) + 1\n",
    "star_rating1 = int(torch.argmax(result1.logits)) + 1\n",
    "star_rating2 = int(torch.argmax(result2.logits)) + 1\n",
    "\n",
    "print('Star Rating (result0): ', star_rating0)\n",
    "print('Star Rating (result1): ', star_rating1)\n",
    "print('Star Rating (result2): ', star_rating2)\n"
   ]
  },
  {
   "cell_type": "markdown",
   "id": "63300b0a",
   "metadata": {
    "tags": []
   },
   "source": [
    "#  Parse Website"
   ]
  },
  {
   "cell_type": "code",
   "execution_count": null,
   "id": "8620c3f3",
   "metadata": {
    "scrolled": true
   },
   "outputs": [],
   "source": [
    "headers = {'User-Agent': 'Mozilla/5.0 (Windows NT 10.0; Win64; x64) AppleWebKit/537.36 (KHTML, like Gecko) Chrome/96.0.4664.93 Safari/537.36'}\n",
    "req_sad = requests.get('https://hamariweb.com/poetries/sad_poetries2.aspx', headers=headers)\n",
    "req_funny = requests.get('https://hamariweb.com/poetries/funny_poetries4.aspx', headers=headers)\n",
    "\n",
    "soup_sad = BeautifulSoup(req_sad.text, 'html.parser')\n",
    "soup_funny = BeautifulSoup(req_funny.text, 'html.parser')\n",
    "\n",
    "regex_sad = re.compile('UrduText')\n",
    "regex_funny = re.compile('UrduText')\n",
    "\n",
    "result_website_sad = soup_sad.find_all('a', {'class':regex_sad})\n",
    "result_website_funny = soup_funny.find_all('a', {'class':regex_funny})\n",
    "\n",
    "reviews_sad = [i.text for i in result_website_sad]\n",
    "reviews_funny = [i.text for i in result_website_funny]\n",
    "\n",
    "# Debug\n",
    "#reviews_sad\n",
    "#reviews_funny\n"
   ]
  },
  {
   "cell_type": "markdown",
   "id": "fe8e240c",
   "metadata": {},
   "source": [
    "# Load Website Data into Dataframe and Get Star Rating"
   ]
  },
  {
   "cell_type": "code",
   "execution_count": null,
   "id": "a786f2c2",
   "metadata": {},
   "outputs": [],
   "source": [
    "df_sad = pd.DataFrame(np.array(reviews_sad), columns=['string'])\n",
    "df_funny = pd.DataFrame(np.array(reviews_funny), columns=['string'])\n",
    "\n",
    "# Debug\n",
    "#soup\n",
    "#result_website\n",
    "#reviews\n",
    "#df['string'].iloc[1]"
   ]
  },
  {
   "cell_type": "code",
   "execution_count": null,
   "id": "83f2bdbd",
   "metadata": {},
   "outputs": [],
   "source": [
    "def StringToScore(string):\n",
    "    tokens = tokenizer.encode(string, return_tensors='pt')\n",
    "    output = model(tokens)\n",
    "    return int(torch.argmax(output.logits)) + 1\n",
    "\n",
    "def StringToScore_Ar(string):\n",
    "    output = sa3(string)\n",
    "    return output\n",
    "    "
   ]
  },
  {
   "cell_type": "code",
   "execution_count": null,
   "id": "289d1eaa",
   "metadata": {},
   "outputs": [],
   "source": [
    "# Debug\n",
    "#StringToScore(df_sad['string'].iloc[0])"
   ]
  },
  {
   "cell_type": "code",
   "execution_count": null,
   "id": "f2e0a32f",
   "metadata": {},
   "outputs": [],
   "source": [
    "df_sad['sentiment'] = df_sad['string'].apply(lambda x: StringToScore(x[:512]))\n",
    "#df_sad['string'] = df_sad['string'].replace('\\n','')\n",
    "df_funny['sentiment'] = df_funny['string'].apply(lambda x: StringToScore(x[:512]))"
   ]
  },
  {
   "cell_type": "code",
   "execution_count": null,
   "id": "433634d8",
   "metadata": {},
   "outputs": [],
   "source": [
    "df_sad"
   ]
  },
  {
   "cell_type": "code",
   "execution_count": null,
   "id": "96820fa3-8dbf-4f42-8068-c7c4637b99fd",
   "metadata": {},
   "outputs": [],
   "source": [
    "df_funny"
   ]
  },
  {
   "cell_type": "code",
   "execution_count": null,
   "id": "5e1c0141",
   "metadata": {},
   "outputs": [],
   "source": [
    "print(\"Average Sentiment (Sad Poetry): \", df_sad['sentiment'].mean())"
   ]
  },
  {
   "cell_type": "code",
   "execution_count": null,
   "id": "29cb5410-00d8-4e1b-845d-ff251bbe592a",
   "metadata": {},
   "outputs": [],
   "source": [
    "print(\"Average Sentiment (Funny Poetry): \", df_funny['sentiment'].mean())"
   ]
  },
  {
   "cell_type": "code",
   "execution_count": null,
   "id": "232ae6ca-01e2-4e1a-a80b-d811617cfca5",
   "metadata": {},
   "outputs": [],
   "source": [
    "#np.savetxt(r'text_sad.txt', df_sad['string'].values, fmt='%s', encoding='utf-8')\n",
    "#np.savetxt(r'text_funny.txt', df_funny['string'].values, fmt='%s', encoding='utf-8')"
   ]
  },
  {
   "cell_type": "markdown",
   "id": "c01c004e-6b63-4786-bad3-3837d036d1ea",
   "metadata": {},
   "source": [
    "# Create non-diacritized and diacritized dataframe"
   ]
  },
  {
   "cell_type": "code",
   "execution_count": null,
   "id": "3b7749d2-e911-4180-b41f-1d1e52aaf340",
   "metadata": {},
   "outputs": [],
   "source": [
    "df_funny_final = pd.read_csv(\"text_funny.txt\", sep=\"\\\\n\", names=['ND String'], encoding='utf8')\n",
    "df_funny_final['ND Sentiment Label'] = df_funny_final['ND String'].apply(lambda x: StringToScore_Ar(x[:1024])[0]['label'])\n",
    "df_funny_final['ND Sentiment Score'] = df_funny_final['ND String'].apply(lambda x: StringToScore_Ar(x[:1024])[0]['score'])\n",
    "temp = pd.read_csv(\"predictions_d3_funny.txt\", sep=\"\\\\n\", names=['D String'], encoding='utf8')\n",
    "df_funny_final['D String'] = temp['D String']\n",
    "df_funny_final['D Sentiment Label'] = df_funny_final['D String'].apply(lambda x: StringToScore_Ar(x[:1024])[0]['label'])\n",
    "df_funny_final['D Sentiment Score'] = df_funny_final['D String'].apply(lambda x: StringToScore_Ar(x[:1024])[0]['score'])"
   ]
  },
  {
   "cell_type": "code",
   "execution_count": null,
   "id": "7246e42d-2f55-4fe1-8f11-a029a85a8002",
   "metadata": {},
   "outputs": [],
   "source": [
    "df_funny_final"
   ]
  },
  {
   "cell_type": "code",
   "execution_count": null,
   "id": "2177c76a-dfb9-46d6-aceb-ea7d0e05df76",
   "metadata": {},
   "outputs": [],
   "source": [
    "df_sad_final = pd.read_csv(\"text_sad.txt\", sep=\"\\\\n\", names=['ND String'], encoding='utf8')\n",
    "df_sad_final['ND Sentiment Label'] = df_sad_final['ND String'].apply(lambda x: StringToScore_Ar(x[:1024])[0]['label'])\n",
    "df_sad_final['ND Sentiment Score'] = df_sad_final['ND String'].apply(lambda x: StringToScore_Ar(x[:1024])[0]['score'])\n",
    "#df_sad_final['ND Sentiment Score'] = df_sad_final['ND String'].apply(lambda x: StringToScore_Ar(x[:1024]))\n",
    "temp = pd.read_csv(\"predictions_d3_sad.txt\", sep=\"\\\\n\", names=['D String'], encoding='utf8')\n",
    "df_sad_final['D String'] = temp['D String']\n",
    "df_sad_final['D Sentiment Label'] = df_sad_final['D String'].apply(lambda x: StringToScore_Ar(x[:1024])[0]['label'])\n",
    "df_sad_final['D Sentiment Score'] = df_sad_final['D String'].apply(lambda x: StringToScore_Ar(x[:1024])[0]['score'])"
   ]
  },
  {
   "cell_type": "code",
   "execution_count": null,
   "id": "56f9b9d3-1c65-4b6e-9994-d52558e45465",
   "metadata": {},
   "outputs": [],
   "source": [
    "df_sad_final"
   ]
  },
  {
   "cell_type": "markdown",
   "id": "00020de9-7945-4528-99bc-bca349d3aa0b",
   "metadata": {},
   "source": [
    "# Generate plots"
   ]
  },
  {
   "cell_type": "code",
   "execution_count": null,
   "id": "6332ecf6-b82c-4093-94a2-71b9dad2aac4",
   "metadata": {},
   "outputs": [],
   "source": [
    "df_funny_final.plot(subplots=True, figsize=(6, 6)); plt.legend(loc='best')"
   ]
  },
  {
   "cell_type": "code",
   "execution_count": null,
   "id": "bde6725a-7f8e-435a-8bbd-982c0f8becec",
   "metadata": {},
   "outputs": [],
   "source": []
  }
 ],
 "metadata": {
  "kernelspec": {
   "display_name": "Python 3 (ipykernel)",
   "language": "python",
   "name": "python3"
  },
  "language_info": {
   "codemirror_mode": {
    "name": "ipython",
    "version": 3
   },
   "file_extension": ".py",
   "mimetype": "text/x-python",
   "name": "python",
   "nbconvert_exporter": "python",
   "pygments_lexer": "ipython3",
   "version": "3.10.4"
  }
 },
 "nbformat": 4,
 "nbformat_minor": 5
}
