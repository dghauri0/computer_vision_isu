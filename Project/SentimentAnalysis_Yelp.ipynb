{
 "cells": [
  {
   "cell_type": "markdown",
   "id": "48a4dcf9",
   "metadata": {},
   "source": [
    "# Dependency Handling"
   ]
  },
  {
   "cell_type": "code",
   "execution_count": 1,
   "id": "cfd66a9d",
   "metadata": {},
   "outputs": [
    {
     "name": "stdout",
     "output_type": "stream",
     "text": [
      "Requirement already satisfied: torch in c:\\users\\dawoo\\appdata\\local\\programs\\python\\python310\\lib\\site-packages (1.11.0)\n",
      "Requirement already satisfied: torchvision in c:\\users\\dawoo\\appdata\\local\\programs\\python\\python310\\lib\\site-packages (0.12.0)\n",
      "Requirement already satisfied: torchaudio in c:\\users\\dawoo\\appdata\\local\\programs\\python\\python310\\lib\\site-packages (0.11.0)\n",
      "Requirement already satisfied: typing-extensions in c:\\users\\dawoo\\appdata\\local\\programs\\python\\python310\\lib\\site-packages (from torch) (4.1.1)\n",
      "Requirement already satisfied: numpy in c:\\users\\dawoo\\appdata\\local\\programs\\python\\python310\\lib\\site-packages (from torchvision) (1.22.3)\n",
      "Requirement already satisfied: requests in c:\\users\\dawoo\\appdata\\local\\programs\\python\\python310\\lib\\site-packages (from torchvision) (2.27.1)\n",
      "Requirement already satisfied: pillow!=8.3.*,>=5.3.0 in c:\\users\\dawoo\\appdata\\local\\programs\\python\\python310\\lib\\site-packages (from torchvision) (9.1.0)\n",
      "Requirement already satisfied: idna<4,>=2.5 in c:\\users\\dawoo\\appdata\\local\\programs\\python\\python310\\lib\\site-packages (from requests->torchvision) (3.3)\n",
      "Requirement already satisfied: certifi>=2017.4.17 in c:\\users\\dawoo\\appdata\\local\\programs\\python\\python310\\lib\\site-packages (from requests->torchvision) (2021.10.8)\n",
      "Requirement already satisfied: charset-normalizer~=2.0.0 in c:\\users\\dawoo\\appdata\\local\\programs\\python\\python310\\lib\\site-packages (from requests->torchvision) (2.0.12)\n",
      "Requirement already satisfied: urllib3<1.27,>=1.21.1 in c:\\users\\dawoo\\appdata\\local\\programs\\python\\python310\\lib\\site-packages (from requests->torchvision) (1.26.9)\n"
     ]
    }
   ],
   "source": [
    "# Install pytorch\n",
    "\n",
    "!pip3 install torch torchvision torchaudio"
   ]
  },
  {
   "cell_type": "code",
   "execution_count": 2,
   "id": "38ad2f79",
   "metadata": {},
   "outputs": [
    {
     "name": "stdout",
     "output_type": "stream",
     "text": [
      "Requirement already satisfied: requests in c:\\users\\dawoo\\appdata\\local\\programs\\python\\python310\\lib\\site-packages (2.27.1)\n",
      "Requirement already satisfied: transformers in c:\\users\\dawoo\\appdata\\local\\programs\\python\\python310\\lib\\site-packages (4.17.0)\n",
      "Requirement already satisfied: beautifulsoup4 in c:\\users\\dawoo\\appdata\\local\\programs\\python\\python310\\lib\\site-packages (4.10.0)\n",
      "Requirement already satisfied: pandas in c:\\users\\dawoo\\appdata\\local\\programs\\python\\python310\\lib\\site-packages (1.4.2)\n",
      "Requirement already satisfied: numpy in c:\\users\\dawoo\\appdata\\local\\programs\\python\\python310\\lib\\site-packages (1.22.3)\n",
      "Requirement already satisfied: idna<4,>=2.5 in c:\\users\\dawoo\\appdata\\local\\programs\\python\\python310\\lib\\site-packages (from requests) (3.3)\n",
      "Requirement already satisfied: certifi>=2017.4.17 in c:\\users\\dawoo\\appdata\\local\\programs\\python\\python310\\lib\\site-packages (from requests) (2021.10.8)\n",
      "Requirement already satisfied: urllib3<1.27,>=1.21.1 in c:\\users\\dawoo\\appdata\\local\\programs\\python\\python310\\lib\\site-packages (from requests) (1.26.9)\n",
      "Requirement already satisfied: charset-normalizer~=2.0.0 in c:\\users\\dawoo\\appdata\\local\\programs\\python\\python310\\lib\\site-packages (from requests) (2.0.12)\n",
      "Requirement already satisfied: pyyaml>=5.1 in c:\\users\\dawoo\\appdata\\local\\programs\\python\\python310\\lib\\site-packages (from transformers) (6.0)\n",
      "Requirement already satisfied: tokenizers!=0.11.3,>=0.11.1 in c:\\users\\dawoo\\appdata\\local\\programs\\python\\python310\\lib\\site-packages (from transformers) (0.11.6)\n",
      "Requirement already satisfied: packaging>=20.0 in c:\\users\\dawoo\\appdata\\local\\programs\\python\\python310\\lib\\site-packages (from transformers) (21.3)\n",
      "Requirement already satisfied: tqdm>=4.27 in c:\\users\\dawoo\\appdata\\local\\programs\\python\\python310\\lib\\site-packages (from transformers) (4.64.0)\n",
      "Requirement already satisfied: regex!=2019.12.17 in c:\\users\\dawoo\\appdata\\local\\programs\\python\\python310\\lib\\site-packages (from transformers) (2022.3.15)\n",
      "Requirement already satisfied: huggingface-hub<1.0,>=0.1.0 in c:\\users\\dawoo\\appdata\\local\\programs\\python\\python310\\lib\\site-packages (from transformers) (0.4.0)\n",
      "Requirement already satisfied: filelock in c:\\users\\dawoo\\appdata\\local\\programs\\python\\python310\\lib\\site-packages (from transformers) (3.6.0)\n",
      "Requirement already satisfied: sacremoses in c:\\users\\dawoo\\appdata\\local\\programs\\python\\python310\\lib\\site-packages (from transformers) (0.0.49)\n",
      "Requirement already satisfied: soupsieve>1.2 in c:\\users\\dawoo\\appdata\\local\\programs\\python\\python310\\lib\\site-packages (from beautifulsoup4) (2.3.1)\n",
      "Requirement already satisfied: python-dateutil>=2.8.1 in c:\\users\\dawoo\\appdata\\local\\programs\\python\\python310\\lib\\site-packages (from pandas) (2.8.2)\n",
      "Requirement already satisfied: pytz>=2020.1 in c:\\users\\dawoo\\appdata\\local\\programs\\python\\python310\\lib\\site-packages (from pandas) (2022.1)\n",
      "Requirement already satisfied: typing-extensions>=3.7.4.3 in c:\\users\\dawoo\\appdata\\local\\programs\\python\\python310\\lib\\site-packages (from huggingface-hub<1.0,>=0.1.0->transformers) (4.1.1)\n",
      "Requirement already satisfied: pyparsing!=3.0.5,>=2.0.2 in c:\\users\\dawoo\\appdata\\local\\programs\\python\\python310\\lib\\site-packages (from packaging>=20.0->transformers) (3.0.7)\n",
      "Requirement already satisfied: six>=1.5 in c:\\users\\dawoo\\appdata\\local\\programs\\python\\python310\\lib\\site-packages (from python-dateutil>=2.8.1->pandas) (1.16.0)\n",
      "Requirement already satisfied: colorama in c:\\users\\dawoo\\appdata\\local\\programs\\python\\python310\\lib\\site-packages (from tqdm>=4.27->transformers) (0.4.4)\n",
      "Requirement already satisfied: click in c:\\users\\dawoo\\appdata\\local\\programs\\python\\python310\\lib\\site-packages (from sacremoses->transformers) (8.1.2)\n",
      "Requirement already satisfied: joblib in c:\\users\\dawoo\\appdata\\local\\programs\\python\\python310\\lib\\site-packages (from sacremoses->transformers) (1.1.0)\n"
     ]
    }
   ],
   "source": [
    "# Install Transformers (using for NLP model - allows for easily import model)\n",
    "# Install Requests (allow requests to webpages for analysis)\n",
    "# Install BeautifulSoup (extract relevant data from webpage)\n",
    "# Install Pandas and Numpy (structure data)\n",
    "\n",
    "!pip3 install requests transformers beautifulsoup4 pandas numpy"
   ]
  },
  {
   "cell_type": "code",
   "execution_count": 3,
   "id": "d8db57b7",
   "metadata": {},
   "outputs": [
    {
     "name": "stderr",
     "output_type": "stream",
     "text": [
      "C:\\Users\\dawoo\\AppData\\Local\\Programs\\Python\\Python310\\lib\\site-packages\\tqdm\\auto.py:22: TqdmWarning: IProgress not found. Please update jupyter and ipywidgets. See https://ipywidgets.readthedocs.io/en/stable/user_install.html\n",
      "  from .autonotebook import tqdm as notebook_tqdm\n"
     ]
    }
   ],
   "source": [
    "# Tokenizer - Parse through string to get numbers.\n",
    "# AutoModelForSequenceClassification - Give us architecture from transformers to load in NLP model\n",
    "from transformers import AutoTokenizer, AutoModelForSequenceClassification\n",
    "import torch\n",
    "import requests\n",
    "from bs4 import BeautifulSoup\n",
    "import re\n",
    "import numpy as np\n",
    "import pandas as pd"
   ]
  },
  {
   "cell_type": "markdown",
   "id": "b2d2e4fb",
   "metadata": {},
   "source": [
    "# Setup Model (Initialization)"
   ]
  },
  {
   "cell_type": "code",
   "execution_count": 4,
   "id": "db861ae3",
   "metadata": {},
   "outputs": [],
   "source": [
    "tokenizer = AutoTokenizer.from_pretrained('nlptown/bert-base-multilingual-uncased-sentiment')\n",
    "\n",
    "model = AutoModelForSequenceClassification.from_pretrained('nlptown/bert-base-multilingual-uncased-sentiment')"
   ]
  },
  {
   "cell_type": "markdown",
   "id": "35e70ca5",
   "metadata": {},
   "source": [
    "# Encoding and Sentiment Calculation"
   ]
  },
  {
   "cell_type": "code",
   "execution_count": 5,
   "id": "48084c31",
   "metadata": {},
   "outputs": [],
   "source": [
    "tokens = tokenizer.encode('I loved taking 482X with Dr. Duwe!', return_tensors='pt')"
   ]
  },
  {
   "cell_type": "code",
   "execution_count": 6,
   "id": "d08822b0",
   "metadata": {},
   "outputs": [],
   "source": [
    "# Debug\n",
    "\n",
    "# tokens\n",
    "# tokens[0]\n",
    "# tokenizer.decode(tokens[0])"
   ]
  },
  {
   "cell_type": "code",
   "execution_count": 7,
   "id": "31ca81c2",
   "metadata": {},
   "outputs": [],
   "source": [
    "result = model(tokens)"
   ]
  },
  {
   "cell_type": "code",
   "execution_count": 8,
   "id": "94eb2dcb",
   "metadata": {},
   "outputs": [
    {
     "data": {
      "text/plain": [
       "SequenceClassifierOutput(loss=None, logits=tensor([[-2.1400, -2.0940, -0.7388,  1.3721,  2.8214]],\n",
       "       grad_fn=<AddmmBackward0>), hidden_states=None, attentions=None)"
      ]
     },
     "execution_count": 8,
     "metadata": {},
     "output_type": "execute_result"
    }
   ],
   "source": [
    "result"
   ]
  },
  {
   "cell_type": "code",
   "execution_count": 9,
   "id": "0857f309",
   "metadata": {},
   "outputs": [
    {
     "name": "stdout",
     "output_type": "stream",
     "text": [
      "Star Rating:  5\n"
     ]
    }
   ],
   "source": [
    "star_rating = int(torch.argmax(result.logits)) + 1\n",
    "print('Star Rating: ', star_rating)"
   ]
  },
  {
   "cell_type": "markdown",
   "id": "63300b0a",
   "metadata": {},
   "source": [
    "#  Parse Website"
   ]
  },
  {
   "cell_type": "code",
   "execution_count": 17,
   "id": "8620c3f3",
   "metadata": {},
   "outputs": [
    {
     "data": {
      "text/plain": [
       "[\"Great coffee and vibe. That's all \\xa0you need. Crab was outstanding but not good finger food like a taco should be. Really want to try the pork belly sandwich - looked excellent. This became my go to breakfast place in Darling harbor. Had the avocado salmon salad breakfast and it was excellent. Service has been excellent.\",\n",
       " \"Great coffee and vibe. That's all \\xa0you need. Crab was outstanding but not good finger food like a taco should be. Really want to try the pork belly sandwich - looked excellent.\",\n",
       " 'I came to Social brew cafe for brunch while exploring the city and on my way to the aquarium. I sat outside. The service was great and the food was good too!I ordered smoked salmon, truffle fries, black coffee and beer.',\n",
       " \"Ricotta hot cakes! These were so yummy. I ate them pretty fast and didn't share with anyone because they were that good ;). I ordered a green smoothie to balance it all out. Smoothie was a nice way to end my brekkie at this restaurant. Others with me ordered the salmon Benedict and the smoked salmon flatbread. They were all delicious and all plates were empty. Cheers!\",\n",
       " 'I went here a little while ago- a beautiful morning,a lovely little brew house on a quaint street corner- perfection.I went to this cafe with my step-daughter Lucille.She was always raving about how great it was to her mother, so I thought it would be a nice idea to go here with her for her birthday... boy was I wrong.She announced her hatred for me while I was waiting for my extra large iced frappé. It felt like hours of awkward silence once she said those four words; \"you\\'re a low-life.\"Was it in my mind, or was my drink taking ages to arrive? The hands on the clock didn\\'t budge from the last time I glanced at them- 7:43AM, where the fuck is my drink?\"Why do you always feel you have to be my friend? You\\'re not my dad!\" She fired.I could only sit there, my head facing down towards the floral tablecloth that lay beneath my quivering arms. The bullet lodged in my heart.I don\\'t understand why she hates me so much; is it my jokes? The funny way I walk? The fact that I often scream myself awake in the mornings? I guess I\\'ll never know.The truth is, I don\\'t really care about her that much at all. I\\'m only part of her family because her mother gives such great head. Other than that, she\\'s essentially bat shit on the pavement; waiting for some other poor soul to step on her once I\\'ve divorced her mother. I can\\'t say that to her though... at least not until her mother has let herself go.Where the fuck is my drink?The silence continued until the waiter brought over our coffees. About time!\"That looks nice\" I said to her as she stirred her sugar into the light brown liquid.\"Don\\'t talk to me. You always try to talk to me even though you know you\\'ll get nowhere. Why?\"\"Because I want to get to know you, I\\'m part of your family now.\" I said in reply.\"You\\'re fucking gross and you only want to hang around me because you have no mates.\"\"That isn\\'t true, I have plenty of friends, they just all died in terrible accidents under mildly suspicious circumstances.\" I retorted, happy with my defence.She sniggered, \"why did your last wife leave you anyways?\"\"She wasn\\'t happy with the way I used to curl up in the top-load washing machine and wait there until she unknowingly turned it on while I was in there. In my opinion, it saves time and water. Why have a shower and wash your clothes separately when you can do them simultaneously? I think she was angry because I didn\\'t seperate the whites and the blacks\" I stated, as I took my first sip of delicious Iced Frappé. The cream at the top coating my top lip.She replied, standing up and pushing in her chair, \"You\\'re fucking mental. I\\'m leaving, if you come back home, I\\'m literally killing myself.\" She exited the cafe.With the threat of suicide and the taste of coffee on my tongue, I left... alone.Overall it\\'s a lovely place, highly recommend it for anyone living in the Pyrmont area. Great atmosphere and wonderful staff.Definitely coming back.- 5 stars!!!',\n",
       " \"We came for brunch twice in our week-long visit to Sydney. Everything on the menu not only sounds delicious, but is really tasty. It really gave us a sour taste of how bad breaky is in America with what's so readily available in Sydney! \\xa0Both days we went were Saturdays and there was a bit of a wait to be seated, the cafe is extremely busy for both dine-in and take-away. Service is fairly quick and servers are all friendly. The location is in Surrey Hills a couple blocks away from the bustling touristy Darling Harbor.The green smoothie is very tasty and refreshing. We tried the smoked salmon salad, the soft shell crab tacos, ricotta hotcakes, and the breaky sandwich. All were delicious, well seasoned, and a solid amount of food for the price. A definite recommend for anyone's trip into Sydney!\",\n",
       " \"Ron & Jo are on the go down under and Wow! \\xa0We've found our breakfast place in Sydney and are coming back before we leave! \\xa0 I yelped you the Social Brew Cafe which was a few blocks from where we are staying so off we went. \\xa0They have seating outside and inside and it was a little chilly and they had a table available inside so we grabbed it. \\xa0The menu has a lot of tantalizing choices and our very nice waitress made some suggestions that we took. \\xa0Jo went with the ricotta pancakes with iced tea and I ordered the smoked salmon with a macchiato. \\xa0Our drinks were served quickly and my wife's crimson iced tea had a nice flavor and macchiato was served dark and rich. \\xa0Jo's pancakes came with a liberal number of fresh strawberries and the ricotta was spread between the first and second pancake with a pistachio butter (lots of ground pistachios) in between the second and third cake. \\xa0These pancakes were well presented and so delicious! \\xa0Jo order a side of bacon which was a crispy generous Canadian bacon that was so also tasty and a good accompaniment. \\xa0My smoked salmon had a mild smoke taste and the micro mesclun lettuce bed was went well with the flat bread and buttermilk dressing. \\xa0Very good! \\xa0We had a great meal and expect to come back in our short stay here. \\xa0Which says a lot! \\xa0I am Bookmarking the Social Brew Cafe! Food & Beverage 4.75 Great tasting food and cut above most breakfast places in presentation and taste! \\xa0I prefer a smokier salmon but I am nitpicking. \\xa0Service 5 Outstanding pleasant waitress was great and responsive.Atmosphere 4.5 Comfortable and cozy. Outdoor eating area as next to a green space which adds to the experience. Price 4.5 Great value for what you get for your dollar!OA 4.75 - I would be a regular here and we plan on coming back for another meal or two while we are here.Returned for a second time and had another awesome experience ordering the Mushroom Bruschetta. A thick slice of sourdough bread that mushrooms and two poached eggs with cream fresh and grated cheese flavored with truffles and pink of beef sausage. \\xa0I had the loaded double, a stack of two slices of bread that sandwich ham and melted cheese between and topped with a free range sunny side up egg. \\xa0They simply have some excellent food that is well prepared and presented. \\xa0Absolutely love going here!\",\n",
       " 'Good coffee and toasts. Straight up and down - hits the spot with nothing mind blowing. Solid and tasty. \\xa0Good work',\n",
       " \"This place is a gem. The ambiance is to die for. The service is really nice. The coffee is a must. Ah I can still remember how that Ice Latte brought me back to life. I ordered the Mushroom and parmesan bruschetta. It was delish, even though if I ever get it again, I will asked for my eggs over easy. Bear and I both ordered the spiked Watermelon, passionfruit and pineapple juice. The spiked part was a joke, couldn't feel it or taste it. Whats the point then? If you offer something, really go for it. We sent them back for extra spike and it still came back pretty lame. But I still recommend the place =)\",\n",
       " \"Delicious. The waitress was hot. The burger was juicy but messy that was the only thing I didn't like but food was delicious service was great. Went for breakfast on a Monday.\",\n",
       " \"5 stars all around for the staff and delicious food.It was raining and they still accommodate folks outside and got wet to provide excellent service. \\xa0I had the Avocado and Salmon flat bread and was just delicious. \\xa0The coffee is also among the best you can find (top 3 rated in Australia I believe). \\xa0Check this fantastic little spot out, you won't be disappointed!\"]"
      ]
     },
     "execution_count": 17,
     "metadata": {},
     "output_type": "execute_result"
    }
   ],
   "source": [
    "req = requests.get('https://www.yelp.com/biz/social-brew-cafe-pyrmont')\n",
    "soup = BeautifulSoup(req.text, 'html.parser')\n",
    "regex = re.compile('.*comment.*')\n",
    "result_website = soup.find_all('p', {'class':regex})\n",
    "strings = [i.text for i in result_website]\n",
    "strings"
   ]
  },
  {
   "cell_type": "markdown",
   "id": "fe8e240c",
   "metadata": {},
   "source": [
    "# Load Website Data into Dataframe and Star Rating"
   ]
  },
  {
   "cell_type": "code",
   "execution_count": 11,
   "id": "a786f2c2",
   "metadata": {},
   "outputs": [
    {
     "data": {
      "text/plain": [
       "\"Great coffee and vibe. That's all \\xa0you need. Crab was outstanding but not good finger food like a taco should be. Really want to try the pork belly sandwich - looked excellent. This became my go to breakfast place in Darling harbor. Had the avocado salmon salad breakfast and it was excellent. Service has been excellent.\""
      ]
     },
     "execution_count": 11,
     "metadata": {},
     "output_type": "execute_result"
    }
   ],
   "source": [
    "df = pd.DataFrame(np.array(strings), columns=['string'])\n",
    "\n",
    "# Debug\n",
    "df['string'].iloc[0]"
   ]
  },
  {
   "cell_type": "code",
   "execution_count": 12,
   "id": "83f2bdbd",
   "metadata": {},
   "outputs": [],
   "source": [
    "def StringToScore(string):\n",
    "    tokens = tokenizer.encode(string, return_tensors='pt')\n",
    "    output = model(tokens)\n",
    "    return int(torch.argmax(output.logits)) + 1\n",
    "    "
   ]
  },
  {
   "cell_type": "code",
   "execution_count": 13,
   "id": "289d1eaa",
   "metadata": {},
   "outputs": [],
   "source": [
    "# Debug\n",
    "# StringToScore(df['string'].iloc[0])"
   ]
  },
  {
   "cell_type": "code",
   "execution_count": 14,
   "id": "f2e0a32f",
   "metadata": {},
   "outputs": [],
   "source": [
    "df['sentiment'] = df['string'].apply(lambda x: StringToScore(x[:1024]))"
   ]
  },
  {
   "cell_type": "code",
   "execution_count": 15,
   "id": "433634d8",
   "metadata": {},
   "outputs": [
    {
     "data": {
      "text/html": [
       "<div>\n",
       "<style scoped>\n",
       "    .dataframe tbody tr th:only-of-type {\n",
       "        vertical-align: middle;\n",
       "    }\n",
       "\n",
       "    .dataframe tbody tr th {\n",
       "        vertical-align: top;\n",
       "    }\n",
       "\n",
       "    .dataframe thead th {\n",
       "        text-align: right;\n",
       "    }\n",
       "</style>\n",
       "<table border=\"1\" class=\"dataframe\">\n",
       "  <thead>\n",
       "    <tr style=\"text-align: right;\">\n",
       "      <th></th>\n",
       "      <th>string</th>\n",
       "      <th>sentiment</th>\n",
       "    </tr>\n",
       "  </thead>\n",
       "  <tbody>\n",
       "    <tr>\n",
       "      <th>0</th>\n",
       "      <td>Great coffee and vibe. That's all  you need. C...</td>\n",
       "      <td>5</td>\n",
       "    </tr>\n",
       "    <tr>\n",
       "      <th>1</th>\n",
       "      <td>Great coffee and vibe. That's all  you need. C...</td>\n",
       "      <td>4</td>\n",
       "    </tr>\n",
       "    <tr>\n",
       "      <th>2</th>\n",
       "      <td>I came to Social brew cafe for brunch while ex...</td>\n",
       "      <td>5</td>\n",
       "    </tr>\n",
       "    <tr>\n",
       "      <th>3</th>\n",
       "      <td>Ricotta hot cakes! These were so yummy. I ate ...</td>\n",
       "      <td>5</td>\n",
       "    </tr>\n",
       "    <tr>\n",
       "      <th>4</th>\n",
       "      <td>I went here a little while ago- a beautiful mo...</td>\n",
       "      <td>1</td>\n",
       "    </tr>\n",
       "    <tr>\n",
       "      <th>5</th>\n",
       "      <td>We came for brunch twice in our week-long visi...</td>\n",
       "      <td>5</td>\n",
       "    </tr>\n",
       "    <tr>\n",
       "      <th>6</th>\n",
       "      <td>Ron &amp; Jo are on the go down under and Wow!  We...</td>\n",
       "      <td>5</td>\n",
       "    </tr>\n",
       "    <tr>\n",
       "      <th>7</th>\n",
       "      <td>Good coffee and toasts. Straight up and down -...</td>\n",
       "      <td>5</td>\n",
       "    </tr>\n",
       "    <tr>\n",
       "      <th>8</th>\n",
       "      <td>This place is a gem. The ambiance is to die fo...</td>\n",
       "      <td>4</td>\n",
       "    </tr>\n",
       "    <tr>\n",
       "      <th>9</th>\n",
       "      <td>Delicious. The waitress was hot. The burger wa...</td>\n",
       "      <td>4</td>\n",
       "    </tr>\n",
       "    <tr>\n",
       "      <th>10</th>\n",
       "      <td>5 stars all around for the staff and delicious...</td>\n",
       "      <td>5</td>\n",
       "    </tr>\n",
       "  </tbody>\n",
       "</table>\n",
       "</div>"
      ],
      "text/plain": [
       "                                               string  sentiment\n",
       "0   Great coffee and vibe. That's all  you need. C...          5\n",
       "1   Great coffee and vibe. That's all  you need. C...          4\n",
       "2   I came to Social brew cafe for brunch while ex...          5\n",
       "3   Ricotta hot cakes! These were so yummy. I ate ...          5\n",
       "4   I went here a little while ago- a beautiful mo...          1\n",
       "5   We came for brunch twice in our week-long visi...          5\n",
       "6   Ron & Jo are on the go down under and Wow!  We...          5\n",
       "7   Good coffee and toasts. Straight up and down -...          5\n",
       "8   This place is a gem. The ambiance is to die fo...          4\n",
       "9   Delicious. The waitress was hot. The burger wa...          4\n",
       "10  5 stars all around for the staff and delicious...          5"
      ]
     },
     "execution_count": 15,
     "metadata": {},
     "output_type": "execute_result"
    }
   ],
   "source": [
    "df"
   ]
  },
  {
   "cell_type": "code",
   "execution_count": 16,
   "id": "5e1c0141",
   "metadata": {},
   "outputs": [
    {
     "name": "stdout",
     "output_type": "stream",
     "text": [
      "Average Sentiment:  4.363636363636363\n"
     ]
    }
   ],
   "source": [
    "print(\"Average Sentiment: \", df['sentiment'].mean())"
   ]
  },
  {
   "cell_type": "code",
   "execution_count": null,
   "id": "80dbd13d",
   "metadata": {},
   "outputs": [],
   "source": []
  }
 ],
 "metadata": {
  "kernelspec": {
   "display_name": "Python 3 (ipykernel)",
   "language": "python",
   "name": "python3"
  },
  "language_info": {
   "codemirror_mode": {
    "name": "ipython",
    "version": 3
   },
   "file_extension": ".py",
   "mimetype": "text/x-python",
   "name": "python",
   "nbconvert_exporter": "python",
   "pygments_lexer": "ipython3",
   "version": "3.10.4"
  }
 },
 "nbformat": 4,
 "nbformat_minor": 5
}
